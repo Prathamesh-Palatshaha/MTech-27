data = {"hours":[0,1,2,3,3,5,5,6,7,7,10,5],"marks":[96,85,82,74,95,68,76,58,65,75,50,84]}


def calculate_covariance(array1, array2):
    n = len(array1)
    if n != len(array2):
        raise ValueError("Input arrays must have the same length to calculate covariance.")
    
    if n < 2:
        raise ValueError("At least two data points are required to calculate covariance.")

     #mean of columns
    mean1 = sum(array1) / n
    mean2 = sum(array2) / n

    # deviation of columns
    covariance_sum = 0
    for i in range(n):
        deviation1 = array1[i] - mean1
        deviation2 = array2[i] - mean2
        covariance_sum += (deviation1 * deviation2)

    covariance = covariance_sum / (n - 1)

    return covariance


covariance  = calculate_covariance(data["hours"],data["marks"])
covariance


def calculate_variance(array):
    n = len(array)
    if n < 2:
        raise ValueError("At least two data points are required to calculate variance.")

    # mean of your column
    mean = sum(array) / n

    # sqrd std 
    variance_sum = 0
    for value in array:
        deviation = value - mean
        variance_sum += (deviation ** 2)

    variance = variance_sum / (n - 1)

    return variance


variance_marks = calculate_variance(data["marks"])
variance_hours= calculate_variance(data["hours"])
variance_hours, variance_marks


slope_value = covariance/variance_hours
slope_value


c = sum(data["marks"])/len(data["hours"]) -slope_value*sum(data["hours"])/len(data["marks"])
c


#equation of line y = mx + c
def predictMarks():
    study = int(input("How many hours you studies: "))
    marks = slope_value*study + c
    print(f"Your expected marks are: {format(marks, ".2f")}")


predictMarks()




















import pandas as pd
import numpy as np


df = pd.DataFrame(data)


df.head()





df.hours.cov(df.marks)


covariance_x_y = df['hours'].cov(df['marks'])
variance_x = df["hours"].var()
slope = covariance_x_y/variance_x
slope


c_value = np.mean(df.marks) - slope*np.mean(df.hours)
c_value


#equation of line y = mx + c
def predictMarks():
    study = int(input("How many hours you studies: "))
    marks = slope*study + c_value
    print(f"Your expected marks are: {format(marks, ".2f")}")


predictMarks()






