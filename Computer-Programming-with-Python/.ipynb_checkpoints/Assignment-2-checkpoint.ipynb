{
 "cells": [
  {
   "cell_type": "markdown",
   "id": "8a84a604-747c-468d-bad7-da551655a2f8",
   "metadata": {},
   "source": [
    "### Question 1."
   ]
  },
  {
   "cell_type": "code",
   "execution_count": 1,
   "id": "8d4afcaf-e54e-45f3-b90e-6c18cb521d1c",
   "metadata": {},
   "outputs": [
    {
     "name": "stdin",
     "output_type": "stream",
     "text": [
      "Enter a number:  10\n"
     ]
    },
    {
     "name": "stdout",
     "output_type": "stream",
     "text": [
      "The number is positive.\n"
     ]
    }
   ],
   "source": [
    "# Get input from the user\n",
    "num = float(input(\"Enter a number: \"))\n",
    "\n",
    "# Check if the number is positive, negative, or zero\n",
    "if num > 0:\n",
    "    print(\"The number is positive.\")\n",
    "elif num < 0:\n",
    "    print(\"The number is negative.\")\n",
    "else:\n",
    "    print(\"The number is zero.\")"
   ]
  },
  {
   "cell_type": "markdown",
   "id": "9df9d938-5f2c-4760-9174-7a20d9dc39eb",
   "metadata": {},
   "source": [
    "### Question 2."
   ]
  },
  {
   "cell_type": "code",
   "execution_count": 2,
   "id": "68c756bc-2598-4adb-81c1-8f2656b21aef",
   "metadata": {},
   "outputs": [
    {
     "name": "stdin",
     "output_type": "stream",
     "text": [
      "Enter an integer:  99\n"
     ]
    },
    {
     "name": "stdout",
     "output_type": "stream",
     "text": [
      "The number is odd.\n"
     ]
    }
   ],
   "source": [
    "# Get input from the user\n",
    "num = int(input(\"Enter an integer: \"))\n",
    "\n",
    "# Check if the number is even or odd\n",
    "if num % 2 == 0:\n",
    "    print(\"The number is even.\")\n",
    "else:\n",
    "    print(\"The number is odd.\")"
   ]
  },
  {
   "cell_type": "markdown",
   "id": "6165ae21-6989-4179-a9e3-ed4e4a7c3672",
   "metadata": {},
   "source": [
    "### Question 3."
   ]
  },
  {
   "cell_type": "code",
   "execution_count": 4,
   "id": "0f8fdc9e-24c4-473e-a3a0-1246d0af21b4",
   "metadata": {},
   "outputs": [
    {
     "name": "stdin",
     "output_type": "stream",
     "text": [
      " 10 20\n"
     ]
    },
    {
     "name": "stdout",
     "output_type": "stream",
     "text": [
      "The larger number is: 20.0\n"
     ]
    }
   ],
   "source": [
    "# Get input for two numbers\n",
    "num1,num2 = map(float,input().split())\n",
    "\n",
    "# Check which number is larger\n",
    "if num1 > num2:\n",
    "    print(f\"The larger number is: {num1}\")\n",
    "elif num2 > num1:\n",
    "    print(f\"The larger number is: {num2}\")\n",
    "else:\n",
    "    print(\"The two numbers are equal.\")"
   ]
  },
  {
   "cell_type": "markdown",
   "id": "73eedf11-d3a5-46ba-bc48-384d3258020b",
   "metadata": {},
   "source": [
    "### Question 4."
   ]
  },
  {
   "cell_type": "code",
   "execution_count": 5,
   "id": "7629a74a-d40e-486a-aa37-7a5e39248a13",
   "metadata": {},
   "outputs": [
    {
     "name": "stdin",
     "output_type": "stream",
     "text": [
      "Enter a number:  -99\n"
     ]
    },
    {
     "name": "stdout",
     "output_type": "stream",
     "text": [
      "The absolute value is: 99.0\n"
     ]
    }
   ],
   "source": [
    "# Get input from the user\n",
    "num = float(input(\"Enter a number: \"))\n",
    "\n",
    "# Check if the number is negative and change its sign\n",
    "if num < 0:\n",
    "    absolute_value = -num\n",
    "else:\n",
    "    absolute_value = num\n",
    "\n",
    "print(f\"The absolute value is: {absolute_value}\")"
   ]
  },
  {
   "cell_type": "markdown",
   "id": "c0e4ba40-a402-4149-bb9b-06ff2dcb2980",
   "metadata": {},
   "source": [
    "### Question 5."
   ]
  },
  {
   "cell_type": "code",
   "execution_count": 6,
   "id": "d400a517-9701-4522-84b6-62c36db7533f",
   "metadata": {},
   "outputs": [
    {
     "name": "stdin",
     "output_type": "stream",
     "text": [
      "Enter your age:  20\n"
     ]
    },
    {
     "name": "stdout",
     "output_type": "stream",
     "text": [
      "You are eligible to vote.\n"
     ]
    }
   ],
   "source": [
    "# Get age from the user\n",
    "age = int(input(\"Enter your age: \"))\n",
    "\n",
    "# Check for voting eligibility\n",
    "if age >= 18:\n",
    "    print(\"You are eligible to vote.\")\n",
    "else:\n",
    "    print(\"You are not eligible to vote.\")"
   ]
  },
  {
   "cell_type": "markdown",
   "id": "26fd6444-575b-49f5-aafd-3c6d556c79f2",
   "metadata": {},
   "source": [
    "### Question 6."
   ]
  },
  {
   "cell_type": "code",
   "execution_count": 7,
   "id": "b1a6f29b-697f-4227-8d61-90234debc5f4",
   "metadata": {},
   "outputs": [
    {
     "name": "stdin",
     "output_type": "stream",
     "text": [
      "Enter a year:  2016\n"
     ]
    },
    {
     "name": "stdout",
     "output_type": "stream",
     "text": [
      "2016 is a leap year.\n"
     ]
    }
   ],
   "source": [
    "# Get year from the user\n",
    "year = int(input(\"Enter a year: \"))\n",
    "\n",
    "# Check for leap year conditions\n",
    "# A year is a leap year if it is divisible by 4\n",
    "# BUT it is NOT a leap year if it is divisible by 100, UNLESS it is also divisible by 400\n",
    "if (year % 4 == 0 and year % 100 != 0) or (year % 400 == 0):\n",
    "    print(f\"{year} is a leap year.\")\n",
    "else:\n",
    "    print(f\"{year} is not a leap year.\")"
   ]
  },
  {
   "cell_type": "markdown",
   "id": "f45558b4-7967-43d3-8b02-483ac3a34212",
   "metadata": {},
   "source": [
    "### Question 7."
   ]
  },
  {
   "cell_type": "code",
   "execution_count": 8,
   "id": "e71eea51-bd81-473f-9530-40367c906238",
   "metadata": {},
   "outputs": [
    {
     "name": "stdin",
     "output_type": "stream",
     "text": [
      "Enter your marks:  39.999\n"
     ]
    },
    {
     "name": "stdout",
     "output_type": "stream",
     "text": [
      "Fail\n"
     ]
    }
   ],
   "source": [
    "# Get marks from the user\n",
    "marks = float(input(\"Enter your marks: \"))\n",
    "\n",
    "# Check if the student passed or failed\n",
    "if marks >= 40:\n",
    "    print(\"Pass\")\n",
    "else:\n",
    "    print(\"Fail\")"
   ]
  },
  {
   "cell_type": "markdown",
   "id": "5d4c98a6-f121-4bb4-be8a-1748dcf67227",
   "metadata": {},
   "source": [
    "### Question 8."
   ]
  },
  {
   "cell_type": "code",
   "execution_count": 9,
   "id": "1dcfd031-487c-4708-be5b-99fcc994d75e",
   "metadata": {},
   "outputs": [
    {
     "name": "stdin",
     "output_type": "stream",
     "text": [
      "Enter a number:  100000000\n"
     ]
    },
    {
     "name": "stdout",
     "output_type": "stream",
     "text": [
      "100000000 is a multiple of 5.\n"
     ]
    }
   ],
   "source": [
    "# Get input from the user\n",
    "num = int(input(\"Enter a number: \"))\n",
    "\n",
    "# Check if the number is a multiple of 5\n",
    "if num % 5 == 0:\n",
    "    print(f\"{num} is a multiple of 5.\")\n",
    "else:\n",
    "    print(f\"{num} is not a multiple of 5.\")"
   ]
  },
  {
   "cell_type": "markdown",
   "id": "7c817ef2-2ec3-4fe9-ade5-5914ac30e7c2",
   "metadata": {},
   "source": [
    "### Question 9."
   ]
  },
  {
   "cell_type": "code",
   "execution_count": 10,
   "id": "9f7f0c28-53df-4134-ba8c-9d248ae14bf5",
   "metadata": {},
   "outputs": [
    {
     "name": "stdin",
     "output_type": "stream",
     "text": [
      "Enter a character:  j\n"
     ]
    },
    {
     "name": "stdout",
     "output_type": "stream",
     "text": [
      "The character is a lowercase letter.\n"
     ]
    }
   ],
   "source": [
    "# Get a single character from the user\n",
    "char = input(\"Enter a character: \")\n",
    "\n",
    "# Check the case of the character\n",
    "if 'a' <= char <= 'z':\n",
    "    print(\"The character is a lowercase letter.\")\n",
    "elif 'A' <= char <= 'Z':\n",
    "    print(\"The character is an uppercase letter.\")\n",
    "else:\n",
    "    print(\"The character is not a letter.\")"
   ]
  },
  {
   "cell_type": "markdown",
   "id": "f98596fb-67ee-4598-b51d-ab47e98194d2",
   "metadata": {},
   "source": [
    "### Question 10."
   ]
  },
  {
   "cell_type": "code",
   "execution_count": 12,
   "id": "9523427c-e7a1-47d4-8955-3f28c8eb2eb1",
   "metadata": {},
   "outputs": [
    {
     "name": "stdin",
     "output_type": "stream",
     "text": [
      "Enter the purchase amount:  1000\n"
     ]
    },
    {
     "name": "stdout",
     "output_type": "stream",
     "text": [
      "A 10% discount has been applied.\n",
      "Your final bill amount is: 900.0\n"
     ]
    }
   ],
   "source": [
    "# Get the purchase amount from the user\n",
    "purchase_amount = float(input(\"Enter the purchase amount: \"))\n",
    "\n",
    "# Check if a discount should be applied\n",
    "if purchase_amount >= 1000:\n",
    "    discount_amount = purchase_amount * 0.10\n",
    "    final_bill = purchase_amount - discount_amount\n",
    "    print(f\"A 10% discount has been applied.\")\n",
    "else:\n",
    "    discount_amount = 0\n",
    "    final_bill = purchase_amount\n",
    "    print(\"No discount applied.\")\n",
    "\n",
    "print(f\"Your final bill amount is: {final_bill}\")"
   ]
  },
  {
   "cell_type": "code",
   "execution_count": null,
   "id": "862d3aa2-5818-47cf-8d91-debbd5ddb492",
   "metadata": {},
   "outputs": [],
   "source": []
  }
 ],
 "metadata": {
  "kernelspec": {
   "display_name": "Python 3 (ipykernel)",
   "language": "python",
   "name": "python3"
  },
  "language_info": {
   "codemirror_mode": {
    "name": "ipython",
    "version": 3
   },
   "file_extension": ".py",
   "mimetype": "text/x-python",
   "name": "python",
   "nbconvert_exporter": "python",
   "pygments_lexer": "ipython3",
   "version": "3.13.5"
  }
 },
 "nbformat": 4,
 "nbformat_minor": 5
}
