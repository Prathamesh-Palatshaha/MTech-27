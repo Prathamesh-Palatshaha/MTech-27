


# Get input from the user
num = float(input("Enter a number: "))

# Check if the number is positive, negative, or zero
if num > 0:
    print("The number is positive.")
elif num < 0:
    print("The number is negative.")
else:
    print("The number is zero.")





# Get input from the user
num = int(input("Enter an integer: "))

# Check if the number is even or odd
if num % 2 == 0:
    print("The number is even.")
else:
    print("The number is odd.")





# Get input for two numbers
num1,num2 = map(float,input().split())

# Check which number is larger
if num1 > num2:
    print(f"The larger number is: {num1}")
elif num2 > num1:
    print(f"The larger number is: {num2}")
else:
    print("The two numbers are equal.")





# Get input from the user
num = float(input("Enter a number: "))

# Check if the number is negative and change its sign
if num < 0:
    absolute_value = -num
else:
    absolute_value = num

print(f"The absolute value is: {absolute_value}")





# Get age from the user
age = int(input("Enter your age: "))

# Check for voting eligibility
if age >= 18:
    print("You are eligible to vote.")
else:
    print("You are not eligible to vote.")





# Get year from the user
year = int(input("Enter a year: "))

# Check for leap year conditions
# A year is a leap year if it is divisible by 4
# BUT it is NOT a leap year if it is divisible by 100, UNLESS it is also divisible by 400
if (year % 4 == 0 and year % 100 != 0) or (year % 400 == 0):
    print(f"{year} is a leap year.")
else:
    print(f"{year} is not a leap year.")





# Get marks from the user
marks = float(input("Enter your marks: "))

# Check if the student passed or failed
if marks >= 40:
    print("Pass")
else:
    print("Fail")





# Get input from the user
num = int(input("Enter a number: "))

# Check if the number is a multiple of 5
if num % 5 == 0:
    print(f"{num} is a multiple of 5.")
else:
    print(f"{num} is not a multiple of 5.")





# Get a single character from the user
char = input("Enter a character: ")

# Check the case of the character
if 'a' <= char <= 'z':
    print("The character is a lowercase letter.")
elif 'A' <= char <= 'Z':
    print("The character is an uppercase letter.")
else:
    print("The character is not a letter.")









