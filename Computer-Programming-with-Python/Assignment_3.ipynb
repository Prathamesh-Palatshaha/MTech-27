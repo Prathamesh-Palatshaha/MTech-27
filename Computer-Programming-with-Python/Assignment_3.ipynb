{
 "cells": [
  {
   "cell_type": "code",
   "execution_count": 1,
   "id": "c965b689-03eb-4ad1-b3d5-0ba6eefce227",
   "metadata": {},
   "outputs": [
    {
     "name": "stdout",
     "output_type": "stream",
     "text": [
      " 2  3  5  7 11\n",
      "53 59 61 67 13\n",
      "47 89 97 71 17\n",
      "43 83 79 73 19\n",
      "41 37 31 29 23\n"
     ]
    }
   ],
   "source": [
    "def is_prime(num):\n",
    "    if num < 2:\n",
    "        return False\n",
    "    for i in range(2, int(num**0.5) + 1):\n",
    "        if num % i == 0:\n",
    "            return False\n",
    "    return True\n",
    "\n",
    "# Step 1: Generate primes less than 100\n",
    "primes = [p for p in range(2, 100) if is_prime(p)]\n",
    "\n",
    "# Step 2: Find minimal square size\n",
    "import math\n",
    "n = math.ceil(len(primes)**0.5)\n",
    "\n",
    "# Step 3: Fill matrix in spiral order\n",
    "matrix = [[None]*n for _ in range(n)]\n",
    "\n",
    "top, bottom = 0, n-1\n",
    "left, right = 0, n-1\n",
    "index = 0\n",
    "\n",
    "while index < len(primes):\n",
    "    # left to right\n",
    "    for i in range(left, right+1):\n",
    "        if index < len(primes):\n",
    "            matrix[top][i] = primes[index]\n",
    "            index += 1\n",
    "    top += 1\n",
    "    \n",
    "    # top to bottom\n",
    "    for i in range(top, bottom+1):\n",
    "        if index < len(primes):\n",
    "            matrix[i][right] = primes[index]\n",
    "            index += 1\n",
    "    right -= 1\n",
    "    \n",
    "    # right to left\n",
    "    for i in range(right, left-1, -1):\n",
    "        if index < len(primes):\n",
    "            matrix[bottom][i] = primes[index]\n",
    "            index += 1\n",
    "    bottom -= 1\n",
    "    \n",
    "    # bottom to top\n",
    "    for i in range(bottom, top-1, -1):\n",
    "        if index < len(primes):\n",
    "            matrix[i][left] = primes[index]\n",
    "            index += 1\n",
    "    left += 1\n",
    "\n",
    "# Step 4: Print matrix, replace None with spaces\n",
    "for row in matrix:\n",
    "    print(\" \".join(str(x).rjust(2) if x is not None else \"  \" for x in row))\n"
   ]
  },
  {
   "cell_type": "code",
   "execution_count": 2,
   "id": "a48a961a-8f8c-4fce-80f6-41d4d90a97fd",
   "metadata": {},
   "outputs": [
    {
     "name": "stdout",
     "output_type": "stream",
     "text": [
      "Hour 00: **\n",
      "Hour 01: **********\n",
      "Hour 02: \n",
      "Hour 03: *****\n",
      "Hour 04: ****************\n",
      "Hour 05: \n",
      "Hour 06: ********\n",
      "Hour 07: **\n",
      "Hour 08: *\n",
      "Hour 09: ******\n",
      "Hour 10: ************\n",
      "Hour 11: ***\n",
      "Hour 12: ****\n",
      "Hour 13: *********\n",
      "Hour 14: ******\n",
      "Hour 15: *****\n",
      "Hour 16: ***\n",
      "Hour 17: ****\n",
      "Hour 18: ***********\n",
      "Hour 19: ***************\n",
      "Hour 20: ************\n",
      "Hour 21: *******\n",
      "Hour 22: **\n",
      "Hour 23: *\n"
     ]
    }
   ],
   "source": [
    "hourly_views = [12, 50, 3, 25, 80, 0, 40, 10, 5, 30, 60, 15, 20, 45, 33, 28, 17, 22, 55, 75, 60, 35, 10, 5]\n",
    "\n",
    "for hour, views in enumerate(hourly_views):\n",
    "    stars = '*' * (views // 5)\n",
    "    print(f\"Hour {hour:02d}: {stars}\")\n"
   ]
  },
  {
   "cell_type": "code",
   "execution_count": 3,
   "id": "a1297c9c-d63e-47c9-83c3-06c3e88786bc",
   "metadata": {},
   "outputs": [
    {
     "name": "stdout",
     "output_type": "stream",
     "text": [
      "Total daily revenue: $216.50\n"
     ]
    }
   ],
   "source": [
    "def calculate_revenue(views):\n",
    "    revenue = 0.0\n",
    "    if views <= 10:\n",
    "        revenue = views * 0.50\n",
    "    elif views <= 30:\n",
    "        revenue = 10 * 0.50 + (views - 10) * 0.30\n",
    "    else:\n",
    "        revenue = 10 * 0.50 + 20 * 0.30 + (views - 30) * 0.10\n",
    "    return revenue\n",
    "\n",
    "total_revenue = sum(calculate_revenue(v) for v in hourly_views)\n",
    "print(f\"Total daily revenue: ${total_revenue:.2f}\")\n"
   ]
  },
  {
   "cell_type": "code",
   "execution_count": null,
   "id": "9fabd7d9-b55a-4943-9287-15dd533fc2a3",
   "metadata": {},
   "outputs": [],
   "source": []
  }
 ],
 "metadata": {
  "kernelspec": {
   "display_name": "Python 3 (ipykernel)",
   "language": "python",
   "name": "python3"
  },
  "language_info": {
   "codemirror_mode": {
    "name": "ipython",
    "version": 3
   },
   "file_extension": ".py",
   "mimetype": "text/x-python",
   "name": "python",
   "nbconvert_exporter": "python",
   "pygments_lexer": "ipython3",
   "version": "3.13.5"
  }
 },
 "nbformat": 4,
 "nbformat_minor": 5
}
