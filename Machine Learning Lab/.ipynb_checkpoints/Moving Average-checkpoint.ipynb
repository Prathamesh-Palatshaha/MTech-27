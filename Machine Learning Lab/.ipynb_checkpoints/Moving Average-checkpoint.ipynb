{
 "cells": [
  {
   "cell_type": "markdown",
   "id": "d31bd103-82a5-477f-b85c-bc0f50f8d873",
   "metadata": {},
   "source": [
    "### Prathamesh Palatshaha 25201310\n",
    "-------------------------------------------------------------"
   ]
  },
  {
   "cell_type": "markdown",
   "id": "db7c3e33-16b5-4b00-9c70-2758e26ea946",
   "metadata": {},
   "source": [
    "### First Order Moving Average Model\n",
    "    - f_hat = mu + psi * epsilon(t-1)"
   ]
  },
  {
   "cell_type": "code",
   "execution_count": 62,
   "id": "600ba162-f605-46ae-8753-09a1d2070547",
   "metadata": {},
   "outputs": [
    {
     "name": "stdout",
     "output_type": "stream",
     "text": [
      "Calculated Forecasts (f̂t): [10.0, 9.0, 10.5, 10.0, 11.0, 10.5]\n",
      "Calculated Actual Values (ft): [8.0, 10.0, 10.5, 12.0, 12.0]\n"
     ]
    }
   ],
   "source": [
    "def firstOrder_ma_model(mu, phi_1, epsilon_list):\n",
    "    f_hat_list = []\n",
    "    f_t_list = []\n",
    "\n",
    "    epsilon_0 = 0\n",
    "\n",
    "    forecast_t1 = mu + phi_1 * epsilon_0\n",
    "    actual_t1 = forecast_t1 + epsilon_list[0]\n",
    "    \n",
    "    f_hat_list.append(forecast_t1)\n",
    "    f_t_list.append(actual_t1)\n",
    "\n",
    "    for i in range(1, len(epsilon_list)):\n",
    "        current_forecast = mu + phi_1 * epsilon_list[i-1]\n",
    "        current_actual = current_forecast + epsilon_list[i]\n",
    "        \n",
    "        f_hat_list.append(current_forecast)\n",
    "        f_t_list.append(current_actual)\n",
    "        \n",
    "    final_forecast = mu + phi_1 * epsilon_list[-1]\n",
    "    f_hat_list.append(final_forecast)\n",
    "    \n",
    "    return f_hat_list, f_t_list\n",
    "\n",
    "# Example \n",
    "mu_val = 10\n",
    "phi_1_val = 0.5\n",
    "epsilon_t_values = [-2, 1, 0, 2, 1]\n",
    "\n",
    "forecasts, actual_values = firstOrder_ma_model(mu_val, phi_1_val, epsilon_t_values)\n",
    "\n",
    "print(\"Calculated Forecasts (f̂t):\", [round(x, 1) for x in forecasts])\n",
    "print(\"Calculated Actual Values (ft):\", [round(x, 1) for x in actual_values])"
   ]
  },
  {
   "cell_type": "code",
   "execution_count": null,
   "id": "b77d27a5-3dee-4f7a-a5f5-fee249dbfc94",
   "metadata": {},
   "outputs": [],
   "source": []
  },
  {
   "cell_type": "code",
   "execution_count": null,
   "id": "cf925afa-11b7-48d5-ace0-6655e9abde55",
   "metadata": {},
   "outputs": [],
   "source": []
  },
  {
   "cell_type": "markdown",
   "id": "35b83acf-1a12-4033-9132-452d3b8c6de0",
   "metadata": {},
   "source": [
    "### Second Order Moving Average Model\n",
    "    - f_hat = mu + psi_1 * epsilon(t-1) + psi_2*epsilon(t-2)"
   ]
  },
  {
   "cell_type": "code",
   "execution_count": 63,
   "id": "bc00b78e-0672-4bf5-9d06-502ce6b29918",
   "metadata": {},
   "outputs": [],
   "source": [
    "def secondOrder_ma_model(mu, psi_1, psi_2, epsilon_list):\n",
    "    f_hat_list = []\n",
    "\n",
    "    epsilon_0 = 0\n",
    "    epsilon_minus_1 = 0\n",
    "\n",
    "    forecast_t1 = mu + psi_1 * epsilon_0 + psi_2 * epsilon_minus_1\n",
    "    f_hat_list.append(forecast_t1)\n",
    "\n",
    "    if len(epsilon_list) > 0:\n",
    "        forecast_t2 = mu + psi_1 * epsilon_list[0] + psi_2 * epsilon_0\n",
    "        f_hat_list.append(forecast_t2)\n",
    "\n",
    "    for i in range(1, len(epsilon_list)):\n",
    "        current_forecast = mu + psi_1 * epsilon_list[i] + psi_2 * epsilon_list[i-1]\n",
    "        f_hat_list.append(current_forecast)\n",
    "    \n",
    "    return f_hat_list"
   ]
  },
  {
   "cell_type": "code",
   "execution_count": 64,
   "id": "07092797-337b-4527-a867-715360c19858",
   "metadata": {},
   "outputs": [
    {
     "name": "stdout",
     "output_type": "stream",
     "text": [
      "Inputs: mu=10.0, psi_1=0.5, psi_2=0.3\n",
      "Epsilon List: [-2.0, 1.0, 0.5, 2.0, -1.0]\n",
      "Expected Output: [10.0, 9.0, 9.9, 10.55, 11.15, 10.1]\n",
      "Actual Output:   [10.0, 9.0, 9.9, 10.55, 11.15, 10.1]\n",
      "Test Passed: True\n",
      "\n",
      "\n"
     ]
    }
   ],
   "source": [
    "mu_test1 = 10.0\n",
    "psi_1_test1 = 0.5\n",
    "psi_2_test1 = 0.3\n",
    "epsilon_list_test1 = [-2.0, 1.0, 0.5, 2.0, -1.0]\n",
    "\n",
    "expected_output_test1 = [10.0, 9.0, 9.9, 10.55, 11.15, 10.1]\n",
    "actual_output_test1 = secondOrder_ma_model(mu_test1, psi_1_test1, psi_2_test1, epsilon_list_test1)\n",
    "\n",
    "print(f\"Inputs: mu={mu_test1}, psi_1={psi_1_test1}, psi_2={psi_2_test1}\")\n",
    "print(f\"Epsilon List: {epsilon_list_test1}\")\n",
    "print(f\"Expected Output: {[round(x, 2) for x in expected_output_test1]}\")\n",
    "print(f\"Actual Output:   {[round(x, 2) for x in actual_output_test1]}\")\n",
    "print(f\"Test Passed: {all(abs(a - b) < 1e-9 for a, b in zip(actual_output_test1, expected_output_test1))}\")\n",
    "print(\"\\n\")\n"
   ]
  },
  {
   "cell_type": "code",
   "execution_count": null,
   "id": "94567e54-5781-4462-aa0c-7bcc7d30a51d",
   "metadata": {},
   "outputs": [],
   "source": []
  },
  {
   "cell_type": "markdown",
   "id": "dca15271-6eee-448d-a8de-9d917638c3f7",
   "metadata": {},
   "source": [
    "#### - Reference Used for equation and example: https://www.youtube.com/watch?v=voryLhxiPzE"
   ]
  },
  {
   "cell_type": "code",
   "execution_count": null,
   "id": "adf49ca1-d218-4b84-b602-8cc594241851",
   "metadata": {},
   "outputs": [],
   "source": []
  }
 ],
 "metadata": {
  "kernelspec": {
   "display_name": "Python 3 (ipykernel)",
   "language": "python",
   "name": "python3"
  },
  "language_info": {
   "codemirror_mode": {
    "name": "ipython",
    "version": 3
   },
   "file_extension": ".py",
   "mimetype": "text/x-python",
   "name": "python",
   "nbconvert_exporter": "python",
   "pygments_lexer": "ipython3",
   "version": "3.13.5"
  }
 },
 "nbformat": 4,
 "nbformat_minor": 5
}
