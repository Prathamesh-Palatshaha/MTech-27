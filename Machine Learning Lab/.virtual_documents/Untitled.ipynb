





def firstOrder_ma_model(mu, phi_1, epsilon_list):
    f_hat_list = []
    f_t_list = []

    epsilon_0 = 0

    forecast_t1 = mu + phi_1 * epsilon_0
    actual_t1 = forecast_t1 + epsilon_list[0]
    
    f_hat_list.append(forecast_t1)
    f_t_list.append(actual_t1)

    for i in range(1, len(epsilon_list)):
        current_forecast = mu + phi_1 * epsilon_list[i-1]
        current_actual = current_forecast + epsilon_list[i]
        
        f_hat_list.append(current_forecast)
        f_t_list.append(current_actual)
        
    final_forecast = mu + phi_1 * epsilon_list[-1]
    f_hat_list.append(final_forecast)
    
    return f_hat_list, f_t_list

# Example 
mu_val = 10
phi_1_val = 0.5
epsilon_t_values = [-2, 1, 0, 2, 1]

forecasts, actual_values = firstOrder_ma_model(mu_val, phi_1_val, epsilon_t_values)

print("Calculated Forecasts (f̂t):", [round(x, 1) for x in forecasts])
print("Calculated Actual Values (ft):", [round(x, 1) for x in actual_values])











def secondOrder_ma_model(mu, psi_1, psi_2, epsilon_list):
    f_hat_list = []

    epsilon_0 = 0
    epsilon_minus_1 = 0

    forecast_t1 = mu + psi_1 * epsilon_0 + psi_2 * epsilon_minus_1
    f_hat_list.append(forecast_t1)

    if len(epsilon_list) > 0:
        forecast_t2 = mu + psi_1 * epsilon_list[0] + psi_2 * epsilon_0
        f_hat_list.append(forecast_t2)

    for i in range(1, len(epsilon_list)):
        current_forecast = mu + psi_1 * epsilon_list[i] + psi_2 * epsilon_list[i-1]
        f_hat_list.append(current_forecast)
    
    return f_hat_list


mu_test1 = 10.0
psi_1_test1 = 0.5
psi_2_test1 = 0.3
epsilon_list_test1 = [-2.0, 1.0, 0.5, 2.0, -1.0]

expected_output_test1 = [10.0, 9.0, 9.9, 10.55, 11.15, 10.1]
actual_output_test1 = secondOrder_ma_model(mu_test1, psi_1_test1, psi_2_test1, epsilon_list_test1)

print(f"Inputs: mu={mu_test1}, psi_1={psi_1_test1}, psi_2={psi_2_test1}")
print(f"Epsilon List: {epsilon_list_test1}")
print(f"Expected Output: {[round(x, 2) for x in expected_output_test1]}")
print(f"Actual Output:   {[round(x, 2) for x in actual_output_test1]}")
print(f"Test Passed: {all(abs(a - b) < 1e-9 for a, b in zip(actual_output_test1, expected_output_test1))}")
print("\n")










