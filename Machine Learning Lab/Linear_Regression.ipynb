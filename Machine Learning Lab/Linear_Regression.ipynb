{
 "cells": [
  {
   "cell_type": "code",
   "execution_count": 1,
   "id": "6afb369a-4f41-45d4-807e-cfc6f1206bfb",
   "metadata": {},
   "outputs": [],
   "source": [
    "import pandas as pd\n",
    "import numpy as np"
   ]
  },
  {
   "cell_type": "code",
   "execution_count": 2,
   "id": "9eaec2dd-ee8f-40d2-bf4c-479f230627b4",
   "metadata": {},
   "outputs": [],
   "source": [
    "data = {\"hours\":[0,1,2,3,3,5,5,6,7,7,10,5],\"marks\":[96,85,82,74,95,68,76,58,65,75,50,84]}"
   ]
  },
  {
   "cell_type": "code",
   "execution_count": 3,
   "id": "e809596f-a9da-44d1-97d9-f6577c58a9a6",
   "metadata": {},
   "outputs": [],
   "source": [
    "df = pd.DataFrame(data)"
   ]
  },
  {
   "cell_type": "code",
   "execution_count": 7,
   "id": "21f43909-66b2-42d9-8303-c7351dfae5bf",
   "metadata": {},
   "outputs": [
    {
     "data": {
      "text/html": [
       "<div>\n",
       "<style scoped>\n",
       "    .dataframe tbody tr th:only-of-type {\n",
       "        vertical-align: middle;\n",
       "    }\n",
       "\n",
       "    .dataframe tbody tr th {\n",
       "        vertical-align: top;\n",
       "    }\n",
       "\n",
       "    .dataframe thead th {\n",
       "        text-align: right;\n",
       "    }\n",
       "</style>\n",
       "<table border=\"1\" class=\"dataframe\">\n",
       "  <thead>\n",
       "    <tr style=\"text-align: right;\">\n",
       "      <th></th>\n",
       "      <th>hours</th>\n",
       "      <th>marks</th>\n",
       "    </tr>\n",
       "  </thead>\n",
       "  <tbody>\n",
       "    <tr>\n",
       "      <th>0</th>\n",
       "      <td>0</td>\n",
       "      <td>96</td>\n",
       "    </tr>\n",
       "    <tr>\n",
       "      <th>1</th>\n",
       "      <td>1</td>\n",
       "      <td>85</td>\n",
       "    </tr>\n",
       "    <tr>\n",
       "      <th>2</th>\n",
       "      <td>2</td>\n",
       "      <td>82</td>\n",
       "    </tr>\n",
       "    <tr>\n",
       "      <th>3</th>\n",
       "      <td>3</td>\n",
       "      <td>74</td>\n",
       "    </tr>\n",
       "    <tr>\n",
       "      <th>4</th>\n",
       "      <td>3</td>\n",
       "      <td>95</td>\n",
       "    </tr>\n",
       "  </tbody>\n",
       "</table>\n",
       "</div>"
      ],
      "text/plain": [
       "   hours  marks\n",
       "0      0     96\n",
       "1      1     85\n",
       "2      2     82\n",
       "3      3     74\n",
       "4      3     95"
      ]
     },
     "execution_count": 7,
     "metadata": {},
     "output_type": "execute_result"
    }
   ],
   "source": [
    "df.head()"
   ]
  },
  {
   "cell_type": "markdown",
   "id": "ccc958c8-8c3e-4d2b-8516-9353a5032b18",
   "metadata": {},
   "source": [
    "# slope = cov(x,y)/var(x)\n",
    "# c = ybar - m*xbar"
   ]
  },
  {
   "cell_type": "code",
   "execution_count": 10,
   "id": "759d3e3a-27dd-4023-ba9b-43c930d7af1e",
   "metadata": {},
   "outputs": [
    {
     "data": {
      "text/plain": [
       "np.float64(-4.0674157303370775)"
      ]
     },
     "execution_count": 10,
     "metadata": {},
     "output_type": "execute_result"
    }
   ],
   "source": [
    "covariance_x_y = df['hours'].cov(df['marks'])\n",
    "variance_x = df[\"hours\"].var()\n",
    "slope = covariance_x_y/variance_x\n",
    "slope"
   ]
  },
  {
   "cell_type": "code",
   "execution_count": 11,
   "id": "a8842b82-1e8e-4db3-8f4f-04ef5362b37b",
   "metadata": {},
   "outputs": [
    {
     "data": {
      "text/plain": [
       "np.float64(93.97003745318352)"
      ]
     },
     "execution_count": 11,
     "metadata": {},
     "output_type": "execute_result"
    }
   ],
   "source": [
    "c_value = np.mean(df.marks) - slope*np.mean(df.hours)\n",
    "c_value"
   ]
  },
  {
   "cell_type": "code",
   "execution_count": 18,
   "id": "21ede628-7d43-4a1d-abbc-7fe7c0515ef7",
   "metadata": {},
   "outputs": [],
   "source": [
    "#equation of line y = mx + c\n",
    "def predictMarks():\n",
    "    study = int(input(\"How many hours you studies: \"))\n",
    "    marks = slope*study + c_value\n",
    "    print(f\"Your expected marks are: {format(marks, \".2f\")}\")"
   ]
  },
  {
   "cell_type": "code",
   "execution_count": 19,
   "id": "dd3891a0-782e-4b8c-8dd8-5b1f5f59ab45",
   "metadata": {},
   "outputs": [
    {
     "name": "stdin",
     "output_type": "stream",
     "text": [
      "How many hours you studies:  9\n"
     ]
    },
    {
     "name": "stdout",
     "output_type": "stream",
     "text": [
      "Your expected marks are: 57.36\n"
     ]
    }
   ],
   "source": [
    "predictMarks()"
   ]
  },
  {
   "cell_type": "code",
   "execution_count": null,
   "id": "13bde519-d18d-4205-bbfa-4de518690b8f",
   "metadata": {},
   "outputs": [],
   "source": []
  }
 ],
 "metadata": {
  "kernelspec": {
   "display_name": "Python 3 (ipykernel)",
   "language": "python",
   "name": "python3"
  },
  "language_info": {
   "codemirror_mode": {
    "name": "ipython",
    "version": 3
   },
   "file_extension": ".py",
   "mimetype": "text/x-python",
   "name": "python",
   "nbconvert_exporter": "python",
   "pygments_lexer": "ipython3",
   "version": "3.13.5"
  }
 },
 "nbformat": 4,
 "nbformat_minor": 5
}
