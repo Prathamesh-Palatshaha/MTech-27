{
 "cells": [
  {
   "cell_type": "code",
   "execution_count": 1,
   "id": "6afb369a-4f41-45d4-807e-cfc6f1206bfb",
   "metadata": {},
   "outputs": [],
   "source": [
    "import pandas as pd\n",
    "import numpy as np"
   ]
  },
  {
   "cell_type": "code",
   "execution_count": 2,
   "id": "9eaec2dd-ee8f-40d2-bf4c-479f230627b4",
   "metadata": {},
   "outputs": [],
   "source": [
    "data = {\"hours\":[0,1,2,3,3,5,5,6,7,7,10,5],\"marks\":[96,85,82,74,95,68,76,58,65,75,50,84]}"
   ]
  },
  {
   "cell_type": "code",
   "execution_count": 20,
   "id": "90ff4284-9da0-41fb-9075-1ece97950ac8",
   "metadata": {},
   "outputs": [],
   "source": [
    "def calculate_covariance(array1, array2):\n",
    "    n = len(array1)\n",
    "    if n != len(array2):\n",
    "        raise ValueError(\"Input arrays must have the same length to calculate covariance.\")\n",
    "    \n",
    "    if n < 2:\n",
    "        raise ValueError(\"At least two data points are required to calculate covariance.\")\n",
    "\n",
    "     #mean of columns\n",
    "    mean1 = sum(array1) / n\n",
    "    mean2 = sum(array2) / n\n",
    "\n",
    "    # deviation of columns\n",
    "    covariance_sum = 0\n",
    "    for i in range(n):\n",
    "        deviation1 = array1[i] - mean1\n",
    "        deviation2 = array2[i] - mean2\n",
    "        covariance_sum += (deviation1 * deviation2)\n",
    "\n",
    "    covariance = covariance_sum / (n - 1)\n",
    "\n",
    "    return covariance"
   ]
  },
  {
   "cell_type": "code",
   "execution_count": 28,
   "id": "765a27ad-dcea-483e-b411-b64d10804187",
   "metadata": {},
   "outputs": [
    {
     "data": {
      "text/plain": [
       "-32.90909090909091"
      ]
     },
     "execution_count": 28,
     "metadata": {},
     "output_type": "execute_result"
    }
   ],
   "source": [
    "covariance  = calculate_covariance(data[\"hours\"],data[\"marks\"])\n",
    "covariance"
   ]
  },
  {
   "cell_type": "code",
   "execution_count": 23,
   "id": "be9cf24e-ad50-4245-a640-da3667235a33",
   "metadata": {},
   "outputs": [],
   "source": [
    "def calculate_variance(array):\n",
    "    n = len(array)\n",
    "    if n < 2:\n",
    "        raise ValueError(\"At least two data points are required to calculate variance.\")\n",
    "\n",
    "    # mean of your column\n",
    "    mean = sum(array) / n\n",
    "\n",
    "    # sqrd std \n",
    "    variance_sum = 0\n",
    "    for value in array:\n",
    "        deviation = value - mean\n",
    "        variance_sum += (deviation ** 2)\n",
    "\n",
    "    variance = variance_sum / (n - 1)\n",
    "\n",
    "    return variance"
   ]
  },
  {
   "cell_type": "code",
   "execution_count": 29,
   "id": "25566635-6b29-407e-b3ba-6317d73bf317",
   "metadata": {},
   "outputs": [
    {
     "data": {
      "text/plain": [
       "(8.090909090909092, 193.6969696969697)"
      ]
     },
     "execution_count": 29,
     "metadata": {},
     "output_type": "execute_result"
    }
   ],
   "source": [
    "variance_marks = calculate_variance(data[\"marks\"])\n",
    "variance_hours= calculate_variance(data[\"hours\"])\n",
    "variance_hours, variance_marks"
   ]
  },
  {
   "cell_type": "code",
   "execution_count": 30,
   "id": "a8cac4ae-6b4a-49fa-be40-97023e785eb2",
   "metadata": {},
   "outputs": [
    {
     "data": {
      "text/plain": [
       "-4.0674157303370775"
      ]
     },
     "execution_count": 30,
     "metadata": {},
     "output_type": "execute_result"
    }
   ],
   "source": [
    "slope_value = covariance/variance_hours\n",
    "slope_value"
   ]
  },
  {
   "cell_type": "code",
   "execution_count": 34,
   "id": "aebc364b-f555-4094-b979-26447657ed5a",
   "metadata": {},
   "outputs": [
    {
     "data": {
      "text/plain": [
       "93.97003745318352"
      ]
     },
     "execution_count": 34,
     "metadata": {},
     "output_type": "execute_result"
    }
   ],
   "source": [
    "c = sum(data[\"marks\"])/len(data[\"hours\"]) -slope_value*sum(data[\"hours\"])/len(data[\"marks\"])\n",
    "c"
   ]
  },
  {
   "cell_type": "code",
   "execution_count": 36,
   "id": "e7b2e58b-2bfc-4983-8255-2eaa9e2ce65c",
   "metadata": {},
   "outputs": [],
   "source": [
    "#equation of line y = mx + c\n",
    "def predictMarks():\n",
    "    study = int(input(\"How many hours you studies: \"))\n",
    "    marks = slope_value*study + c\n",
    "    print(f\"Your expected marks are: {format(marks, \".2f\")}\")"
   ]
  },
  {
   "cell_type": "code",
   "execution_count": 37,
   "id": "a4237205-9b9b-442f-9567-c37bd355bc44",
   "metadata": {},
   "outputs": [
    {
     "name": "stdin",
     "output_type": "stream",
     "text": [
      "How many hours you studies:  9\n"
     ]
    },
    {
     "name": "stdout",
     "output_type": "stream",
     "text": [
      "Your expected marks are: 57.36\n"
     ]
    }
   ],
   "source": [
    "predictMarks()"
   ]
  },
  {
   "cell_type": "code",
   "execution_count": null,
   "id": "96b614f6-6ca8-44cb-b651-374a1dc2bcff",
   "metadata": {},
   "outputs": [],
   "source": []
  },
  {
   "cell_type": "code",
   "execution_count": null,
   "id": "fda389d6-4f6e-4132-8776-454acb0a70c1",
   "metadata": {},
   "outputs": [],
   "source": []
  },
  {
   "cell_type": "code",
   "execution_count": 3,
   "id": "e809596f-a9da-44d1-97d9-f6577c58a9a6",
   "metadata": {},
   "outputs": [],
   "source": [
    "df = pd.DataFrame(data)"
   ]
  },
  {
   "cell_type": "code",
   "execution_count": 7,
   "id": "21f43909-66b2-42d9-8303-c7351dfae5bf",
   "metadata": {},
   "outputs": [
    {
     "data": {
      "text/html": [
       "<div>\n",
       "<style scoped>\n",
       "    .dataframe tbody tr th:only-of-type {\n",
       "        vertical-align: middle;\n",
       "    }\n",
       "\n",
       "    .dataframe tbody tr th {\n",
       "        vertical-align: top;\n",
       "    }\n",
       "\n",
       "    .dataframe thead th {\n",
       "        text-align: right;\n",
       "    }\n",
       "</style>\n",
       "<table border=\"1\" class=\"dataframe\">\n",
       "  <thead>\n",
       "    <tr style=\"text-align: right;\">\n",
       "      <th></th>\n",
       "      <th>hours</th>\n",
       "      <th>marks</th>\n",
       "    </tr>\n",
       "  </thead>\n",
       "  <tbody>\n",
       "    <tr>\n",
       "      <th>0</th>\n",
       "      <td>0</td>\n",
       "      <td>96</td>\n",
       "    </tr>\n",
       "    <tr>\n",
       "      <th>1</th>\n",
       "      <td>1</td>\n",
       "      <td>85</td>\n",
       "    </tr>\n",
       "    <tr>\n",
       "      <th>2</th>\n",
       "      <td>2</td>\n",
       "      <td>82</td>\n",
       "    </tr>\n",
       "    <tr>\n",
       "      <th>3</th>\n",
       "      <td>3</td>\n",
       "      <td>74</td>\n",
       "    </tr>\n",
       "    <tr>\n",
       "      <th>4</th>\n",
       "      <td>3</td>\n",
       "      <td>95</td>\n",
       "    </tr>\n",
       "  </tbody>\n",
       "</table>\n",
       "</div>"
      ],
      "text/plain": [
       "   hours  marks\n",
       "0      0     96\n",
       "1      1     85\n",
       "2      2     82\n",
       "3      3     74\n",
       "4      3     95"
      ]
     },
     "execution_count": 7,
     "metadata": {},
     "output_type": "execute_result"
    }
   ],
   "source": [
    "df.head()"
   ]
  },
  {
   "cell_type": "markdown",
   "id": "ccc958c8-8c3e-4d2b-8516-9353a5032b18",
   "metadata": {},
   "source": [
    "# slope = cov(x,y)/var(x)\n",
    "# c = ybar - m*xbar"
   ]
  },
  {
   "cell_type": "code",
   "execution_count": 27,
   "id": "377b7791-9d16-44b7-9e8c-b9eff58e16ec",
   "metadata": {},
   "outputs": [
    {
     "data": {
      "text/plain": [
       "np.float64(-32.90909090909091)"
      ]
     },
     "execution_count": 27,
     "metadata": {},
     "output_type": "execute_result"
    }
   ],
   "source": [
    "df.hours.cov(df.marks)"
   ]
  },
  {
   "cell_type": "code",
   "execution_count": 10,
   "id": "759d3e3a-27dd-4023-ba9b-43c930d7af1e",
   "metadata": {},
   "outputs": [
    {
     "data": {
      "text/plain": [
       "np.float64(-4.0674157303370775)"
      ]
     },
     "execution_count": 10,
     "metadata": {},
     "output_type": "execute_result"
    }
   ],
   "source": [
    "covariance_x_y = df['hours'].cov(df['marks'])\n",
    "variance_x = df[\"hours\"].var()\n",
    "slope = covariance_x_y/variance_x\n",
    "slope"
   ]
  },
  {
   "cell_type": "code",
   "execution_count": 11,
   "id": "a8842b82-1e8e-4db3-8f4f-04ef5362b37b",
   "metadata": {},
   "outputs": [
    {
     "data": {
      "text/plain": [
       "np.float64(93.97003745318352)"
      ]
     },
     "execution_count": 11,
     "metadata": {},
     "output_type": "execute_result"
    }
   ],
   "source": [
    "c_value = np.mean(df.marks) - slope*np.mean(df.hours)\n",
    "c_value"
   ]
  },
  {
   "cell_type": "code",
   "execution_count": 18,
   "id": "21ede628-7d43-4a1d-abbc-7fe7c0515ef7",
   "metadata": {},
   "outputs": [],
   "source": [
    "#equation of line y = mx + c\n",
    "def predictMarks():\n",
    "    study = int(input(\"How many hours you studies: \"))\n",
    "    marks = slope*study + c_value\n",
    "    print(f\"Your expected marks are: {format(marks, \".2f\")}\")"
   ]
  },
  {
   "cell_type": "code",
   "execution_count": 19,
   "id": "dd3891a0-782e-4b8c-8dd8-5b1f5f59ab45",
   "metadata": {},
   "outputs": [
    {
     "name": "stdin",
     "output_type": "stream",
     "text": [
      "How many hours you studies:  9\n"
     ]
    },
    {
     "name": "stdout",
     "output_type": "stream",
     "text": [
      "Your expected marks are: 57.36\n"
     ]
    }
   ],
   "source": [
    "predictMarks()"
   ]
  },
  {
   "cell_type": "code",
   "execution_count": null,
   "id": "13bde519-d18d-4205-bbfa-4de518690b8f",
   "metadata": {},
   "outputs": [],
   "source": []
  },
  {
   "cell_type": "code",
   "execution_count": null,
   "id": "e3a5bdaa-2a20-4dcc-9975-d5162daa5625",
   "metadata": {},
   "outputs": [],
   "source": []
  }
 ],
 "metadata": {
  "kernelspec": {
   "display_name": "Python 3 (ipykernel)",
   "language": "python",
   "name": "python3"
  },
  "language_info": {
   "codemirror_mode": {
    "name": "ipython",
    "version": 3
   },
   "file_extension": ".py",
   "mimetype": "text/x-python",
   "name": "python",
   "nbconvert_exporter": "python",
   "pygments_lexer": "ipython3",
   "version": "3.13.5"
  }
 },
 "nbformat": 4,
 "nbformat_minor": 5
}
