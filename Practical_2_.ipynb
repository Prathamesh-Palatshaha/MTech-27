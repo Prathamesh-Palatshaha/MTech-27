{
 "cells": [
  {
   "cell_type": "markdown",
   "id": "bae970f1-ddbc-4ab1-b9ec-67e2212fff53",
   "metadata": {},
   "source": [
    "## Concatenation "
   ]
  },
  {
   "cell_type": "code",
   "execution_count": 1,
   "id": "feeea365-48cc-4bf4-979a-38014125097f",
   "metadata": {},
   "outputs": [
    {
     "data": {
      "text/plain": [
       "\"Good '+' Mornig\""
      ]
     },
     "execution_count": 1,
     "metadata": {},
     "output_type": "execute_result"
    }
   ],
   "source": [
    "\"Good '+' Mornig\""
   ]
  },
  {
   "cell_type": "code",
   "execution_count": 2,
   "id": "e3a2c9d3-6182-4eea-87aa-fb400eaa74e2",
   "metadata": {},
   "outputs": [
    {
     "data": {
      "text/plain": [
       "'GoodMorning'"
      ]
     },
     "execution_count": 2,
     "metadata": {},
     "output_type": "execute_result"
    }
   ],
   "source": [
    "\"Good\"+\"Morning\""
   ]
  },
  {
   "cell_type": "code",
   "execution_count": 3,
   "id": "c740167d-aa29-4dc1-85cb-88313938e2ff",
   "metadata": {},
   "outputs": [
    {
     "ename": "TypeError",
     "evalue": "can only concatenate str (not \"int\") to str",
     "output_type": "error",
     "traceback": [
      "\u001b[1;31m---------------------------------------------------------------------------\u001b[0m",
      "\u001b[1;31mTypeError\u001b[0m                                 Traceback (most recent call last)",
      "Cell \u001b[1;32mIn[3], line 1\u001b[0m\n\u001b[1;32m----> 1\u001b[0m \u001b[38;5;124m\"\u001b[39m\u001b[38;5;124mpy\u001b[39m\u001b[38;5;124m\"\u001b[39m\u001b[38;5;241m+\u001b[39m\u001b[38;5;241m3\u001b[39m\n",
      "\u001b[1;31mTypeError\u001b[0m: can only concatenate str (not \"int\") to str"
     ]
    }
   ],
   "source": [
    "\"py\"+3"
   ]
  },
  {
   "cell_type": "code",
   "execution_count": 4,
   "id": "213bb835-d519-4bc7-8cee-e8f3270a2a07",
   "metadata": {},
   "outputs": [
    {
     "data": {
      "text/plain": [
       "'py3.5'"
      ]
     },
     "execution_count": 4,
     "metadata": {},
     "output_type": "execute_result"
    }
   ],
   "source": [
    "\"py\"+\"3.5\""
   ]
  },
  {
   "cell_type": "code",
   "execution_count": 5,
   "id": "319a06cd-e455-4151-97b5-c530fef93835",
   "metadata": {},
   "outputs": [
    {
     "data": {
      "text/plain": [
       "'1234'"
      ]
     },
     "execution_count": 5,
     "metadata": {},
     "output_type": "execute_result"
    }
   ],
   "source": [
    "\"12\"+\"34\""
   ]
  },
  {
   "cell_type": "code",
   "execution_count": 6,
   "id": "c1806e4b-75fc-45c1-a0a9-87e7efb2aa36",
   "metadata": {},
   "outputs": [
    {
     "ename": "TypeError",
     "evalue": "can't multiply sequence by non-int of type 'float'",
     "output_type": "error",
     "traceback": [
      "\u001b[1;31m---------------------------------------------------------------------------\u001b[0m",
      "\u001b[1;31mTypeError\u001b[0m                                 Traceback (most recent call last)",
      "Cell \u001b[1;32mIn[6], line 1\u001b[0m\n\u001b[1;32m----> 1\u001b[0m \u001b[38;5;124m\"\u001b[39m\u001b[38;5;124mGood\u001b[39m\u001b[38;5;124m\"\u001b[39m\u001b[38;5;241m*\u001b[39m\u001b[38;5;241m5.0\u001b[39m\n",
      "\u001b[1;31mTypeError\u001b[0m: can't multiply sequence by non-int of type 'float'"
     ]
    }
   ],
   "source": [
    "\"Good\"*5.0"
   ]
  },
  {
   "cell_type": "markdown",
   "id": "5578bc3d-cf9d-4cbe-9a3d-4637350b99d8",
   "metadata": {},
   "source": [
    "## Multiplication"
   ]
  },
  {
   "cell_type": "code",
   "execution_count": 7,
   "id": "247a56ef-e79f-4f9d-95f0-e4355806fa51",
   "metadata": {},
   "outputs": [
    {
     "data": {
      "text/plain": [
       "'goodgood'"
      ]
     },
     "execution_count": 7,
     "metadata": {},
     "output_type": "execute_result"
    }
   ],
   "source": [
    "\"good\"*2"
   ]
  },
  {
   "cell_type": "markdown",
   "id": "a12cb8bb-231e-4e3c-ae5d-524cc63aaf44",
   "metadata": {},
   "source": [
    "## Slicing "
   ]
  },
  {
   "cell_type": "code",
   "execution_count": 8,
   "id": "1b683565-611a-4580-8853-4c20c4a9a708",
   "metadata": {},
   "outputs": [
    {
     "name": "stdout",
     "output_type": "stream",
     "text": [
      "python is Easy!!!\n"
     ]
    },
    {
     "data": {
      "text/plain": [
       "'p'"
      ]
     },
     "execution_count": 8,
     "metadata": {},
     "output_type": "execute_result"
    }
   ],
   "source": [
    "prop = \"python is Easy!!!\"\n",
    "print(prop)\n",
    "prop[0]"
   ]
  },
  {
   "cell_type": "code",
   "execution_count": 9,
   "id": "be68eab0-7f0b-45ce-999a-fd99d656673b",
   "metadata": {},
   "outputs": [
    {
     "data": {
      "text/plain": [
       "'hon is'"
      ]
     },
     "execution_count": 9,
     "metadata": {},
     "output_type": "execute_result"
    }
   ],
   "source": [
    "prop[3:9]"
   ]
  },
  {
   "cell_type": "code",
   "execution_count": 10,
   "id": "95e317d7-6ae4-4e7b-b65a-bad5b4550a47",
   "metadata": {},
   "outputs": [
    {
     "data": {
      "text/plain": [
       "'!'"
      ]
     },
     "execution_count": 10,
     "metadata": {},
     "output_type": "execute_result"
    }
   ],
   "source": [
    "prop[-1]"
   ]
  },
  {
   "cell_type": "code",
   "execution_count": 11,
   "id": "9dea4aa1-3714-4d07-9678-a343c9346ca3",
   "metadata": {},
   "outputs": [
    {
     "data": {
      "text/plain": [
       "'pytho'"
      ]
     },
     "execution_count": 11,
     "metadata": {},
     "output_type": "execute_result"
    }
   ],
   "source": [
    "prop[:5]"
   ]
  },
  {
   "cell_type": "code",
   "execution_count": 12,
   "id": "75afa98a-97cf-41ed-b105-00fbe92123e8",
   "metadata": {},
   "outputs": [
    {
     "data": {
      "text/plain": [
       "'on is Easy!!!'"
      ]
     },
     "execution_count": 12,
     "metadata": {},
     "output_type": "execute_result"
    }
   ],
   "source": [
    "prop[4:]"
   ]
  },
  {
   "cell_type": "markdown",
   "id": "e31afe96-4585-4175-855c-26eb9fabb660",
   "metadata": {},
   "source": [
    "## It is a standard way of writing international text, python has unicode enabled text editor.\n",
    "- prefixing the string with u or U python allows you to specify unicode text "
   ]
  },
  {
   "cell_type": "code",
   "execution_count": 13,
   "id": "c0d954eb-4d6f-49af-849a-388d4c623c1c",
   "metadata": {},
   "outputs": [
    {
     "ename": "SyntaxError",
     "evalue": "unterminated string literal (detected at line 1) (3249417136.py, line 1)",
     "output_type": "error",
     "traceback": [
      "\u001b[1;36m  Cell \u001b[1;32mIn[13], line 1\u001b[1;36m\u001b[0m\n\u001b[1;33m    'what's your name'\u001b[0m\n\u001b[1;37m                     ^\u001b[0m\n\u001b[1;31mSyntaxError\u001b[0m\u001b[1;31m:\u001b[0m unterminated string literal (detected at line 1)\n"
     ]
    }
   ],
   "source": [
    "'what's your name'"
   ]
  },
  {
   "cell_type": "markdown",
   "id": "3ef2a739-41f1-4ddf-b897-4a8b2c20889d",
   "metadata": {},
   "source": [
    "## Escape sequence: its a combination of characters that is translated into another character or sequence of characters that maybe difficult or impossible to represent directly"
   ]
  },
  {
   "cell_type": "code",
   "execution_count": 14,
   "id": "5b695d59-0cc2-4e79-9bdb-dd713ae91a76",
   "metadata": {},
   "outputs": [
    {
     "data": {
      "text/plain": [
       "\"what's your name\""
      ]
     },
     "execution_count": 14,
     "metadata": {},
     "output_type": "execute_result"
    }
   ],
   "source": [
    "'what\\'s your name'"
   ]
  },
  {
   "cell_type": "code",
   "execution_count": 15,
   "id": "08ab4e97-3763-4424-a608-e1dd8031d493",
   "metadata": {},
   "outputs": [
    {
     "ename": "SyntaxError",
     "evalue": "invalid syntax (460885277.py, line 1)",
     "output_type": "error",
     "traceback": [
      "\u001b[1;36m  Cell \u001b[1;32mIn[15], line 1\u001b[1;36m\u001b[0m\n\u001b[1;33m    \"The boy replies, \"My name is adi.\"\"\u001b[0m\n\u001b[1;37m                       ^\u001b[0m\n\u001b[1;31mSyntaxError\u001b[0m\u001b[1;31m:\u001b[0m invalid syntax\n"
     ]
    }
   ],
   "source": [
    "\"The boy replies, \"My name is adi.\"\""
   ]
  },
  {
   "cell_type": "code",
   "execution_count": 16,
   "id": "b8b3b1f3-371e-4707-a805-652613c0cebf",
   "metadata": {},
   "outputs": [
    {
     "data": {
      "text/plain": [
       "'The boy replies, \"My name is adi.\"'"
      ]
     },
     "execution_count": 16,
     "metadata": {},
     "output_type": "execute_result"
    }
   ],
   "source": [
    "\"The boy replies, \\\"My name is adi.\\\"\""
   ]
  },
  {
   "cell_type": "code",
   "execution_count": 20,
   "id": "02592f99-a18d-4f2d-9008-c5e4d961723b",
   "metadata": {},
   "outputs": [
    {
     "name": "stdout",
     "output_type": "stream",
     "text": [
      "The boy replies, \n",
      "My name is adi.\n"
     ]
    }
   ],
   "source": [
    "print(\"The boy replies, \\nMy name is adi.\")"
   ]
  },
  {
   "cell_type": "code",
   "execution_count": 21,
   "id": "c5a5c3ca-c1a2-4035-95a5-2977ecde57b4",
   "metadata": {},
   "outputs": [
    {
     "name": "stdout",
     "output_type": "stream",
     "text": [
      "The boy replies, \tMy name is adi.\n"
     ]
    }
   ],
   "source": [
    "print(\"The boy replies, \\tMy name is adi.\")"
   ]
  },
  {
   "cell_type": "code",
   "execution_count": 22,
   "id": "a9cfadb2-7401-4ff0-a04a-3e074a8f8d35",
   "metadata": {},
   "outputs": [
    {
     "name": "stdout",
     "output_type": "stream",
     "text": [
      "The boy replies, \\My name is adi.\n"
     ]
    }
   ],
   "source": [
    "print(\"The boy replies, \\My name is adi.\")"
   ]
  },
  {
   "cell_type": "markdown",
   "id": "797db109-7a43-4601-a943-62cc61d520a3",
   "metadata": {},
   "source": [
    "## when specifying a string with single back slash at the end of line is added, it indicates string is continue in the next line but no new line is added otherwise."
   ]
  },
  {
   "cell_type": "code",
   "execution_count": 23,
   "id": "72d2cd7b-4caa-4fed-9e84-eee13f82c7cc",
   "metadata": {},
   "outputs": [
    {
     "name": "stdout",
     "output_type": "stream",
     "text": [
      "\\\n"
     ]
    }
   ],
   "source": [
    "print(\"\\\\\")"
   ]
  },
  {
   "cell_type": "code",
   "execution_count": 25,
   "id": "77151919-317d-4c05-aac2-1f08df125fc8",
   "metadata": {},
   "outputs": [
    {
     "name": "stdout",
     "output_type": "stream",
     "text": [
      "'\n"
     ]
    }
   ],
   "source": [
    "print(\"\\'\")"
   ]
  },
  {
   "cell_type": "code",
   "execution_count": 26,
   "id": "bb9fa1f4-f95d-4059-8020-e2ff7698db1e",
   "metadata": {},
   "outputs": [
    {
     "name": "stdout",
     "output_type": "stream",
     "text": [
      "\"\n"
     ]
    }
   ],
   "source": [
    "print(\"\\\"\")"
   ]
  },
  {
   "cell_type": "code",
   "execution_count": 28,
   "id": "22a40817-2015-418b-a903-5f04cebd5b40",
   "metadata": {},
   "outputs": [
    {
     "name": "stdout",
     "output_type": "stream",
     "text": [
      ".\n"
     ]
    }
   ],
   "source": [
    "print(\"\\056\")"
   ]
  },
  {
   "cell_type": "code",
   "execution_count": 29,
   "id": "f90d1e0e-ceeb-48b2-b1cd-143ffaf19359",
   "metadata": {},
   "outputs": [
    {
     "name": "stdout",
     "output_type": "stream",
     "text": [
      ".\n"
     ]
    }
   ],
   "source": [
    "print(\"\\x2E\")"
   ]
  },
  {
   "cell_type": "code",
   "execution_count": 30,
   "id": "244b8b42-0f8d-4547-a9fa-fdc3bf2dc6c1",
   "metadata": {},
   "outputs": [
    {
     "data": {
      "text/plain": [
       "46"
      ]
     },
     "execution_count": 30,
     "metadata": {},
     "output_type": "execute_result"
    }
   ],
   "source": [
    "ord(\".\")"
   ]
  },
  {
   "cell_type": "code",
   "execution_count": 31,
   "id": "3f016e01-9e59-4419-ba5a-424d9630976b",
   "metadata": {},
   "outputs": [
    {
     "data": {
      "text/plain": [
       "46"
      ]
     },
     "execution_count": 31,
     "metadata": {},
     "output_type": "execute_result"
    }
   ],
   "source": [
    "ord(\"\\x2E\")"
   ]
  },
  {
   "cell_type": "code",
   "execution_count": 32,
   "id": "f97b298a-f2e7-4689-bc3c-600d959c3eaa",
   "metadata": {},
   "outputs": [
    {
     "name": "stdout",
     "output_type": "stream",
     "text": [
      "27\n"
     ]
    }
   ],
   "source": [
    "binary_string = \"11011\"\n",
    "decimal_number = int(binary_string, 2)\n",
    "print(decimal_number)"
   ]
  },
  {
   "cell_type": "code",
   "execution_count": 34,
   "id": "695a9d53-ff9e-47ed-9084-e7b54284d56b",
   "metadata": {},
   "outputs": [
    {
     "data": {
      "text/plain": [
       "'0o63'"
      ]
     },
     "execution_count": 34,
     "metadata": {},
     "output_type": "execute_result"
    }
   ],
   "source": [
    "num = 51\n",
    "oct(51)"
   ]
  },
  {
   "cell_type": "code",
   "execution_count": 35,
   "id": "1b093f21-2bae-4ecc-b1f7-0ad5ab2e2ed7",
   "metadata": {},
   "outputs": [
    {
     "data": {
      "text/plain": [
       "360.0"
      ]
     },
     "execution_count": 35,
     "metadata": {},
     "output_type": "execute_result"
    }
   ],
   "source": [
    "float(360)"
   ]
  },
  {
   "cell_type": "code",
   "execution_count": 36,
   "id": "a5f94a41-89a6-4ad9-a37e-1847557df376",
   "metadata": {},
   "outputs": [
    {
     "data": {
      "text/plain": [
       "'0x33'"
      ]
     },
     "execution_count": 36,
     "metadata": {},
     "output_type": "execute_result"
    }
   ],
   "source": [
    "hex(51)"
   ]
  },
  {
   "cell_type": "code",
   "execution_count": 42,
   "id": "d3db2350-5424-4813-913d-7c221694ca25",
   "metadata": {},
   "outputs": [
    {
     "name": "stdout",
     "output_type": "stream",
     "text": [
      "33\n"
     ]
    }
   ],
   "source": [
    "hexval = '0x21'\n",
    "print(int(hexval,16))"
   ]
  },
  {
   "cell_type": "code",
   "execution_count": 43,
   "id": "97c2cac7-1dc0-429f-83da-96dc9ac38ba4",
   "metadata": {},
   "outputs": [],
   "source": [
    "def decimal_to_binary(num):\n",
    "    return bin(num)\n",
    "\n",
    "def decimal_to_oct(num):\n",
    "    return oct(num)\n",
    "\n",
    "def oct_to_decimal(num):\n",
    "    return int(num, 8)"
   ]
  },
  {
   "cell_type": "code",
   "execution_count": 44,
   "id": "32ca89ef-74e7-4714-8cbc-67bf67e25f4d",
   "metadata": {},
   "outputs": [
    {
     "data": {
      "text/plain": [
       "15"
      ]
     },
     "execution_count": 44,
     "metadata": {},
     "output_type": "execute_result"
    }
   ],
   "source": [
    "oct_to_decimal(\"17\")"
   ]
  },
  {
   "cell_type": "code",
   "execution_count": 48,
   "id": "033ec6b3-52a6-4e05-b91b-41bb5beb5f94",
   "metadata": {},
   "outputs": [
    {
     "data": {
      "text/plain": [
       "240"
      ]
     },
     "execution_count": 48,
     "metadata": {},
     "output_type": "execute_result"
    }
   ],
   "source": [
    "oct_to_decimal(\"0O360\")"
   ]
  },
  {
   "cell_type": "code",
   "execution_count": 49,
   "id": "e21baab6-436d-4d1f-b143-18d15147de80",
   "metadata": {},
   "outputs": [
    {
     "name": "stdout",
     "output_type": "stream",
     "text": [
      "0\n"
     ]
    }
   ],
   "source": [
    "print(10 & 4)"
   ]
  },
  {
   "cell_type": "code",
   "execution_count": 50,
   "id": "c9e0f001-78a9-4f46-bf46-702ca3a5ccc4",
   "metadata": {},
   "outputs": [
    {
     "name": "stdout",
     "output_type": "stream",
     "text": [
      "10\n"
     ]
    }
   ],
   "source": [
    "print(10| 0)"
   ]
  },
  {
   "cell_type": "code",
   "execution_count": 54,
   "id": "f972d435-1f69-4146-bc3e-109693119533",
   "metadata": {},
   "outputs": [
    {
     "name": "stdout",
     "output_type": "stream",
     "text": [
      "-11\n"
     ]
    }
   ],
   "source": [
    "print(~10)"
   ]
  },
  {
   "cell_type": "code",
   "execution_count": 55,
   "id": "2f553fd6-0d7b-4143-8398-3b4641ef06b1",
   "metadata": {},
   "outputs": [
    {
     "data": {
      "text/plain": [
       "0"
      ]
     },
     "execution_count": 55,
     "metadata": {},
     "output_type": "execute_result"
    }
   ],
   "source": [
    "10^10"
   ]
  },
  {
   "cell_type": "code",
   "execution_count": 56,
   "id": "c07e80a1-4bab-458a-b76e-09ac43ac9b53",
   "metadata": {},
   "outputs": [
    {
     "data": {
      "text/plain": [
       "3"
      ]
     },
     "execution_count": 56,
     "metadata": {},
     "output_type": "execute_result"
    }
   ],
   "source": [
    "2 and 3"
   ]
  },
  {
   "cell_type": "code",
   "execution_count": 57,
   "id": "15cab1aa-590f-4bae-9386-19894fb877d5",
   "metadata": {},
   "outputs": [
    {
     "data": {
      "text/plain": [
       "2"
      ]
     },
     "execution_count": 57,
     "metadata": {},
     "output_type": "execute_result"
    }
   ],
   "source": [
    "3 and 2"
   ]
  },
  {
   "cell_type": "code",
   "execution_count": 60,
   "id": "c274ae55-616e-4ae4-bd03-f6d48527b938",
   "metadata": {},
   "outputs": [
    {
     "name": "stdout",
     "output_type": "stream",
     "text": [
      "2\n"
     ]
    }
   ],
   "source": [
    "print(10>>2)"
   ]
  },
  {
   "cell_type": "code",
   "execution_count": 61,
   "id": "ecd70a63-87fc-415b-83c8-d478c524cdb5",
   "metadata": {},
   "outputs": [
    {
     "data": {
      "text/plain": [
       "40"
      ]
     },
     "execution_count": 61,
     "metadata": {},
     "output_type": "execute_result"
    }
   ],
   "source": [
    "10<<2"
   ]
  },
  {
   "cell_type": "code",
   "execution_count": 62,
   "id": "4181de46-dce9-4e3f-b9b4-71c11bb0451b",
   "metadata": {},
   "outputs": [
    {
     "data": {
      "text/plain": [
       "'0b1010'"
      ]
     },
     "execution_count": 62,
     "metadata": {},
     "output_type": "execute_result"
    }
   ],
   "source": [
    "bin(10)"
   ]
  },
  {
   "cell_type": "code",
   "execution_count": 63,
   "id": "69e8ba50-2959-4c9c-a469-ce60e98e847b",
   "metadata": {},
   "outputs": [
    {
     "data": {
      "text/plain": [
       "40"
      ]
     },
     "execution_count": 63,
     "metadata": {},
     "output_type": "execute_result"
    }
   ],
   "source": [
    "int('0b101000',2)"
   ]
  },
  {
   "cell_type": "markdown",
   "id": "a7855d02-040e-407e-8b7c-40a570a2cdbb",
   "metadata": {},
   "source": [
    "## Identity Operators\n",
    "- \"is\" and \"is not\" "
   ]
  },
  {
   "cell_type": "code",
   "execution_count": 64,
   "id": "dbe03034-d4dc-43d4-8ef8-c3de97dc1da8",
   "metadata": {},
   "outputs": [
    {
     "name": "stdout",
     "output_type": "stream",
     "text": [
      "False\n"
     ]
    }
   ],
   "source": [
    "x = [1,2]\n",
    "y = [1,2]\n",
    "\n",
    "print(x is y)"
   ]
  },
  {
   "cell_type": "code",
   "execution_count": 67,
   "id": "37ac711f-be10-4764-a9e1-66c365af47ae",
   "metadata": {},
   "outputs": [
    {
     "name": "stdout",
     "output_type": "stream",
     "text": [
      "True\n"
     ]
    }
   ],
   "source": [
    "z = x\n",
    "print(x is z)"
   ]
  },
  {
   "cell_type": "code",
   "execution_count": 68,
   "id": "91da4992-04f8-4e27-b6ea-f64ef2234284",
   "metadata": {},
   "outputs": [
    {
     "name": "stdout",
     "output_type": "stream",
     "text": [
      "[1, 2, 3]\n"
     ]
    }
   ],
   "source": [
    "x.append(3)\n",
    "print(z)"
   ]
  },
  {
   "cell_type": "code",
   "execution_count": 69,
   "id": "1b22c4f0-3482-4b5e-84a2-43d4fd1a68bb",
   "metadata": {},
   "outputs": [
    {
     "name": "stdout",
     "output_type": "stream",
     "text": [
      "False\n",
      "True\n",
      "False\n"
     ]
    }
   ],
   "source": [
    "x1,y1= 5,5\n",
    "x2,y2 = \"hello\",\"hello\"\n",
    "x3,y3 = [1,2,3],[1,2,3]\n",
    "print(x1 is not y1)\n",
    "print(x2 is y2)\n",
    "print(x3 is y3)"
   ]
  },
  {
   "cell_type": "code",
   "execution_count": 70,
   "id": "f59ce66d-910c-4138-ae62-77794a666ce2",
   "metadata": {},
   "outputs": [
    {
     "name": "stdout",
     "output_type": "stream",
     "text": [
      "1\n"
     ]
    }
   ],
   "source": [
    "msg = \"Hello World\"\n",
    "if \"H\" in msg: print(1)"
   ]
  },
  {
   "cell_type": "code",
   "execution_count": 74,
   "id": "461f806b-213b-4977-b066-63f778b86f49",
   "metadata": {},
   "outputs": [
    {
     "name": "stdout",
     "output_type": "stream",
     "text": [
      "true\n",
      "True\n"
     ]
    }
   ],
   "source": [
    "if \"Hello\" in msg: print(\"true\")\n",
    "print(\"Hello\" in msg)"
   ]
  },
  {
   "cell_type": "code",
   "execution_count": 75,
   "id": "a94470aa-eacb-4238-ad87-5f58900581ef",
   "metadata": {},
   "outputs": [
    {
     "name": "stdout",
     "output_type": "stream",
     "text": [
      "0\n",
      "True\n"
     ]
    }
   ],
   "source": [
    "mp = {1:\"a\",2:\"b\"}\n",
    "if \"1\" in mp:\n",
    "    print(1)\n",
    "else:\n",
    "    print(0)\n",
    "\n",
    "if \"a\" in mp.values(): print(True)"
   ]
  },
  {
   "cell_type": "code",
   "execution_count": 77,
   "id": "7e2c116e-38f8-4262-aae6-e05942257a86",
   "metadata": {},
   "outputs": [
    {
     "name": "stdout",
     "output_type": "stream",
     "text": [
      "True\n"
     ]
    }
   ],
   "source": [
    "print((1, \"a\") in mp.items())"
   ]
  },
  {
   "cell_type": "code",
   "execution_count": 78,
   "id": "0e410800-cbc9-493e-b447-5fd7e3164081",
   "metadata": {},
   "outputs": [
    {
     "name": "stdout",
     "output_type": "stream",
     "text": [
      "10\n"
     ]
    }
   ],
   "source": [
    "a,b =10,20\n",
    "print(a if a<b else b)"
   ]
  },
  {
   "cell_type": "code",
   "execution_count": 80,
   "id": "f7dcbd72-8aff-4086-8c70-48c121ed8e24",
   "metadata": {},
   "outputs": [
    {
     "name": "stdout",
     "output_type": "stream",
     "text": [
      "pos\n"
     ]
    }
   ],
   "source": [
    "x = 5.0\n",
    "print(\"pos\" if x>0 else \"-ve\")"
   ]
  },
  {
   "cell_type": "code",
   "execution_count": 81,
   "id": "f68bde2f-1cdb-4218-b608-bb77a00c737f",
   "metadata": {},
   "outputs": [
    {
     "data": {
      "text/plain": [
       "180.0"
      ]
     },
     "execution_count": 81,
     "metadata": {},
     "output_type": "execute_result"
    }
   ],
   "source": [
    "(40+20)*30/10"
   ]
  },
  {
   "cell_type": "code",
   "execution_count": 82,
   "id": "628ba2ff-ed94-4502-a180-3baaee92df6c",
   "metadata": {},
   "outputs": [
    {
     "data": {
      "text/plain": [
       "100.0"
      ]
     },
     "execution_count": 82,
     "metadata": {},
     "output_type": "execute_result"
    }
   ],
   "source": [
    "40+(20*30)/10"
   ]
  },
  {
   "cell_type": "code",
   "execution_count": 83,
   "id": "82721d5c-bfdc-4c3b-a50f-1d5223385725",
   "metadata": {},
   "outputs": [
    {
     "data": {
      "text/plain": [
       "True"
      ]
     },
     "execution_count": 83,
     "metadata": {},
     "output_type": "execute_result"
    }
   ],
   "source": [
    "False == False or True"
   ]
  },
  {
   "cell_type": "markdown",
   "id": "5a8e1c13-9c42-4598-a67a-0d2354b31620",
   "metadata": {},
   "source": [
    "# you are constructing ifelse block which runs if when lunch either fruits or sandwitch  and only is money if >=2."
   ]
  },
  {
   "cell_type": "code",
   "execution_count": 85,
   "id": "5b1c3dcc-265d-4326-8646-da247c214d9f",
   "metadata": {},
   "outputs": [
    {
     "name": "stdin",
     "output_type": "stream",
     "text": [
      " 3\n",
      " fruits\n"
     ]
    },
    {
     "name": "stdout",
     "output_type": "stream",
     "text": [
      "True\n"
     ]
    }
   ],
   "source": [
    "money = int(input())\n",
    "food = input()\n",
    "\n",
    "if (food == \"fruits\" or food == \"sandwitch\") and money>=2:\n",
    "    print(True)\n",
    "else: print(False)"
   ]
  },
  {
   "cell_type": "code",
   "execution_count": 86,
   "id": "2e9f586e-84d8-4765-b3da-44fc09597c94",
   "metadata": {},
   "outputs": [
    {
     "data": {
      "text/plain": [
       "100.0"
      ]
     },
     "execution_count": 86,
     "metadata": {},
     "output_type": "execute_result"
    }
   ],
   "source": [
    "100/10*10"
   ]
  },
  {
   "cell_type": "code",
   "execution_count": 87,
   "id": "960419d2-8968-400f-bac2-24f8c31d2220",
   "metadata": {},
   "outputs": [
    {
     "data": {
      "text/plain": [
       "False"
      ]
     },
     "execution_count": 87,
     "metadata": {},
     "output_type": "execute_result"
    }
   ],
   "source": [
    "False ==(False or True)"
   ]
  },
  {
   "cell_type": "code",
   "execution_count": null,
   "id": "e616de90-b95e-46b6-a4e4-a382d82c5645",
   "metadata": {},
   "outputs": [],
   "source": []
  }
 ],
 "metadata": {
  "kernelspec": {
   "display_name": "Python 3 (ipykernel)",
   "language": "python",
   "name": "python3"
  },
  "language_info": {
   "codemirror_mode": {
    "name": "ipython",
    "version": 3
   },
   "file_extension": ".py",
   "mimetype": "text/x-python",
   "name": "python",
   "nbconvert_exporter": "python",
   "pygments_lexer": "ipython3",
   "version": "3.13.5"
  }
 },
 "nbformat": 4,
 "nbformat_minor": 5
}
