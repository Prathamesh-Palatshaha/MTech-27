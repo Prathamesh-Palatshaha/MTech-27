{
 "cells": [
  {
   "cell_type": "code",
   "execution_count": 1,
   "id": "499c7c10-f6f1-4e47-bb72-f68ef730dceb",
   "metadata": {},
   "outputs": [
    {
     "name": "stdin",
     "output_type": "stream",
     "text": [
      " abc\n",
      " 22\n"
     ]
    },
    {
     "name": "stdout",
     "output_type": "stream",
     "text": [
      "abc,you are 22 old.\n"
     ]
    }
   ],
   "source": [
    "name = input()\n",
    "age = input()\n",
    "print(name+\",you are \"+age+\" old.\")"
   ]
  },
  {
   "cell_type": "code",
   "execution_count": 6,
   "id": "e75c05fc-6697-44e2-a25b-cdda7a4fa078",
   "metadata": {},
   "outputs": [
    {
     "name": "stdin",
     "output_type": "stream",
     "text": [
      " 10\n"
     ]
    },
    {
     "name": "stdout",
     "output_type": "stream",
     "text": [
      "Hexa value: 0xa\n",
      ", octal value: 0o12\n",
      " sqrt value:3.16\n",
      "\n"
     ]
    }
   ],
   "source": [
    "import math\n",
    "num = int(input())\n",
    "print(f\"Hexa value: {hex(num)}\\n, octal value: {oct(num)}\\n sqrt value:{format(math.sqrt(num),\".2f\")}\\n\")"
   ]
  },
  {
   "cell_type": "code",
   "execution_count": 11,
   "id": "527f885c-5ba3-48aa-868a-d02ff8fe02b6",
   "metadata": {},
   "outputs": [
    {
     "name": "stdin",
     "output_type": "stream",
     "text": [
      " 5 3 4\n"
     ]
    },
    {
     "name": "stdout",
     "output_type": "stream",
     "text": [
      "6.0\n"
     ]
    }
   ],
   "source": [
    "a,b,c = map(int, input().split())\n",
    "s = (a+b+c)/2\n",
    "ar = math.sqrt(s*(s-a)*(s-b)*(s-c))\n",
    "print(ar)"
   ]
  },
  {
   "cell_type": "code",
   "execution_count": 14,
   "id": "4522979b-841e-48c9-956e-f35e73f39385",
   "metadata": {},
   "outputs": [
    {
     "name": "stdin",
     "output_type": "stream",
     "text": [
      " 1 1 -1 -1\n"
     ]
    },
    {
     "name": "stdout",
     "output_type": "stream",
     "text": [
      "2.83\n"
     ]
    }
   ],
   "source": [
    "x1,y1,x2,y2 = map(int, input().split())\n",
    "s = (x2-x1)**2 + (y2-y1)**2\n",
    "print(format(math.sqrt(s), \".2f\"))"
   ]
  },
  {
   "cell_type": "code",
   "execution_count": 15,
   "id": "2ecbbd25-d189-4c9a-ad35-eb645107311b",
   "metadata": {},
   "outputs": [
    {
     "name": "stdin",
     "output_type": "stream",
     "text": [
      " 1 2\n"
     ]
    },
    {
     "name": "stdout",
     "output_type": "stream",
     "text": [
      "3.0 -1.0 0.5 2.0\n"
     ]
    }
   ],
   "source": [
    "a,b = map(float, input().split())\n",
    "print(a+b, a-b, a/b,a*b)"
   ]
  },
  {
   "cell_type": "code",
   "execution_count": 28,
   "id": "386bd910-41c1-4d68-9296-f460baa81749",
   "metadata": {},
   "outputs": [
    {
     "name": "stdin",
     "output_type": "stream",
     "text": [
      "Enter quantity sold:  10\n",
      "Enter price per item:  10\n",
      "Enter discount (%) :  1\n",
      "Enter tax (%) :  1\n"
     ]
    },
    {
     "name": "stdout",
     "output_type": "stream",
     "text": [
      "\n",
      "****************BILL****************\n",
      "Quantity sold:            10\n",
      "Price per item:           $10.00\n",
      "-----------------------------------\n",
      "Amount:                   $100.00\n",
      "Discount:                 -$1.00\n",
      "-----------------------------------\n",
      "Discounted Total:         $99.00\n",
      "Tax:                      +$0.99\n",
      "-----------------------------------\n",
      "Total amount to be paid:  $99.99\n"
     ]
    }
   ],
   "source": [
    "# Get inputs from the user\n",
    "quantity = int(input(\"Enter quantity sold: \"))\n",
    "price_per_item = float(input(\"Enter price per item: \"))\n",
    "discount_rate = float(input(\"Enter discount (%) : \"))\n",
    "tax_rate = float(input(\"Enter tax (%) : \"))\n",
    "\n",
    "# Calculations\n",
    "amount = quantity * price_per_item\n",
    "discount = amount * (discount_rate / 100)\n",
    "discounted_total = amount - discount\n",
    "tax = discounted_total * (tax_rate / 100)\n",
    "final_total = discounted_total + tax\n",
    "\n",
    "# Print formatted bill\n",
    "print(\"\\n{:>20}\".format(f\"{\"**\"*8}BILL{\"**\"*8}\"))\n",
    "print(f\"{'Quantity sold:':<25} {quantity}\")\n",
    "print(f\"{'Price per item:':<25} ${price_per_item:.2f}\")\n",
    "print(f\"{'-'*35}\")\n",
    "print(f\"{'Amount:':<25} ${amount:.2f}\")\n",
    "print(f\"{'Discount:':<25} -${discount:.2f}\")\n",
    "print(f\"{'-'*35}\")\n",
    "print(f\"{'Discounted Total:':<25} ${discounted_total:.2f}\")\n",
    "print(f\"{'Tax:':<25} +${tax:.2f}\")\n",
    "print(f\"{'-'*35}\")\n",
    "print(f\"{'Total amount to be paid:':<25} ${final_total:.2f}\")\n"
   ]
  },
  {
   "cell_type": "code",
   "execution_count": 29,
   "id": "7767215a-a102-48c3-a541-832924f4d703",
   "metadata": {},
   "outputs": [
    {
     "name": "stdin",
     "output_type": "stream",
     "text": [
      " 10 20 30 40 50 60\n"
     ]
    },
    {
     "name": "stdout",
     "output_type": "stream",
     "text": [
      "66.0\n"
     ]
    }
   ],
   "source": [
    "# wap to calculate student result based on 2--- exams , 1-- sport event, 3--- activites, conducted weightage of acts 30% sport 20% acts and 50% exam\n",
    "arr = list(map(int,input().split()))\n",
    "#e1,e2,s,a1,a2,a3\n",
    "e = arr[0]+arr[1]\n",
    "s = arr[2]\n",
    "a = sum(arr[3:])\n",
    "total = e*.5 + s*.2 + a*.3\n",
    "print(total)"
   ]
  },
  {
   "cell_type": "code",
   "execution_count": null,
   "id": "18fcce96-6101-48da-aaf3-4611b7a6d7f9",
   "metadata": {},
   "outputs": [],
   "source": []
  }
 ],
 "metadata": {
  "kernelspec": {
   "display_name": "Python 3 (ipykernel)",
   "language": "python",
   "name": "python3"
  },
  "language_info": {
   "codemirror_mode": {
    "name": "ipython",
    "version": 3
   },
   "file_extension": ".py",
   "mimetype": "text/x-python",
   "name": "python",
   "nbconvert_exporter": "python",
   "pygments_lexer": "ipython3",
   "version": "3.13.5"
  }
 },
 "nbformat": 4,
 "nbformat_minor": 5
}
