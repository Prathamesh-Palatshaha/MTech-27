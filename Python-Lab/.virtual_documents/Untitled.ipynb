import pandas as pd
import seaborn as sns
import math



from myModule import main
fun = main.sayHello("Lucifer")
print(fun)


from myModule import main


fun = main.printDetail({"name":"ABC", "age":18})



