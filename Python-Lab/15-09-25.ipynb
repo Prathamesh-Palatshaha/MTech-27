{
 "cells": [
  {
   "cell_type": "markdown",
   "id": "e5cf28cf-9d62-40c9-9b52-8d135834de11",
   "metadata": {},
   "source": [
    "### pre-test loops\n",
    "    - \n",
    "### post-test loops\n",
    "    -\n",
    "### Counter Controlled loops\n",
    "    -\n",
    "### Condition Controlled loops\n",
    "    -"
   ]
  },
  {
   "cell_type": "code",
   "execution_count": 12,
   "id": "55d9aff0-5f96-45fb-8f3d-00c1a90b6129",
   "metadata": {},
   "outputs": [
    {
     "name": "stdout",
     "output_type": "stream",
     "text": [
      "Monday 1 8 15 22 29\n",
      "Tuesday 2 9 16 23 30\n",
      "Wednesday 3 10 17 24 31\n",
      "Thursday 4 11 18 25\n",
      "Friday 5 12 19 26\n",
      "Saturday 6 13 20 27\n",
      "Sunday 7 14 21 28\n"
     ]
    }
   ],
   "source": [
    "#wap to generate calendar of a month given the start day and number of days\n",
    "from collections import defaultdict\n",
    "days = [\"Monday\",\"Tuesday\",\"Wednesday\",\"Thursday\",\"Friday\",\"Saturday\",\"Sunday\"]\n",
    "month = defaultdict(list)\n",
    "for day in days:\n",
    "    month[day] = []\n",
    "\n",
    "# print(month)\n",
    "i = 1\n",
    "for key in month.keys():\n",
    "    date = i\n",
    "    while date <=31:\n",
    "        month[key].append(date)\n",
    "        date+=7\n",
    "    i+=1\n",
    "for key,val in month.items():\n",
    "    print(key,*val)"
   ]
  },
  {
   "cell_type": "code",
   "execution_count": 16,
   "id": "70573cf1-6512-4c11-9978-84c79714ce80",
   "metadata": {},
   "outputs": [
    {
     "name": "stdout",
     "output_type": "stream",
     "text": [
      "* * * * * \n",
      "* * * * * \n",
      "* * * * * \n",
      "* * * * * \n"
     ]
    }
   ],
   "source": [
    "for i in range(4):\n",
    "    for j in range(1,6):\n",
    "        print(\"*\", end=\" \")\n",
    "    print()"
   ]
  },
  {
   "cell_type": "code",
   "execution_count": 17,
   "id": "cb07ef93-b274-40e8-8975-7d6a6d9d60d6",
   "metadata": {},
   "outputs": [
    {
     "name": "stdout",
     "output_type": "stream",
     "text": [
      "* \n",
      "* * \n",
      "* * * \n",
      "* * * * \n",
      "* * * * * \n"
     ]
    }
   ],
   "source": [
    "for i in range(5):\n",
    "    for j in range(i+1):\n",
    "        print(\"*\",end=\" \")\n",
    "    print()"
   ]
  },
  {
   "cell_type": "code",
   "execution_count": 19,
   "id": "a2093305-946e-4fdb-84fa-0da447f6f40a",
   "metadata": {},
   "outputs": [
    {
     "name": "stdout",
     "output_type": "stream",
     "text": [
      "* * * * * \n",
      "* * * * \n",
      "* * * \n",
      "* * \n",
      "* \n"
     ]
    }
   ],
   "source": [
    "for i in range(5,0,-1):\n",
    "    for j in range(i):\n",
    "        print(\"*\",end=\" \")\n",
    "    print()"
   ]
  },
  {
   "cell_type": "code",
   "execution_count": 29,
   "id": "3df44cef-904b-484d-abe6-28d19e85cf88",
   "metadata": {},
   "outputs": [
    {
     "name": "stdout",
     "output_type": "stream",
     "text": [
      "     \n",
      "1 \n",
      "    \n",
      "1 2 \n",
      "   \n",
      "1 2 3 \n",
      "  \n",
      "1 2 3 4 \n",
      " \n",
      "1 2 3 4 5 \n"
     ]
    }
   ],
   "source": [
    "for i in range(1,6):\n",
    "    space = 6-i\n",
    "    print(\" \"*space)\n",
    "    for j in range(1,i+1):\n",
    "        print(j,end=\" \")\n",
    "    print()"
   ]
  },
  {
   "cell_type": "code",
   "execution_count": null,
   "id": "f57c3ed5-f3a1-4a91-90c5-43801306a590",
   "metadata": {},
   "outputs": [],
   "source": []
  }
 ],
 "metadata": {
  "kernelspec": {
   "display_name": "Python 3 (ipykernel)",
   "language": "python",
   "name": "python3"
  },
  "language_info": {
   "codemirror_mode": {
    "name": "ipython",
    "version": 3
   },
   "file_extension": ".py",
   "mimetype": "text/x-python",
   "name": "python",
   "nbconvert_exporter": "python",
   "pygments_lexer": "ipython3",
   "version": "3.13.5"
  }
 },
 "nbformat": 4,
 "nbformat_minor": 5
}
