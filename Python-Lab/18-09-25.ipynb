{
 "cells": [
  {
   "cell_type": "code",
   "execution_count": 1,
   "id": "b1aab186-36dc-4e09-ba1c-2f3ab96f494e",
   "metadata": {},
   "outputs": [],
   "source": [
    "# --- Question 1: Sum of Series ---\n",
    "def sum_series_a(n):\n",
    "    total_sum = 0\n",
    "    for i in range(1, n + 1):\n",
    "        total_sum += i / (i + 1)\n",
    "    return total_sum"
   ]
  },
  {
   "cell_type": "code",
   "execution_count": 2,
   "id": "c9a80942-eafd-4a53-88e0-be03ece87c5a",
   "metadata": {},
   "outputs": [],
   "source": [
    "def sum_series_b(n):\n",
    "    total_sum = 0\n",
    "    for i in range(1, n + 1):\n",
    "        total_sum += i ** 2 / i\n",
    "    return int(total_sum)"
   ]
  },
  {
   "cell_type": "code",
   "execution_count": 3,
   "id": "9f5a5baf-0fb0-4681-8376-b6b1bf8cd380",
   "metadata": {},
   "outputs": [],
   "source": [
    "# --- Question 2: Print a 3x3 Grid ---\n",
    "def print_3x3_grid():\n",
    "    print(\"3x3 Grid:\")\n",
    "    for row in range(3):\n",
    "        for col in range(3):\n",
    "            # Print the coordinates on the same line, separated by a space\n",
    "            print(f\"({row},{col})\", end=\" \")\n",
    "        # Move to the next line after each row\n",
    "        print()\n",
    "    print(\"-\" * 20)"
   ]
  },
  {
   "cell_type": "code",
   "execution_count": 4,
   "id": "1ff31495-af25-43ea-a5b8-1020bd2f4a14",
   "metadata": {},
   "outputs": [],
   "source": [
    "# --- Question 3: Matrix Multiplication ---\n",
    "def multiply_matrices(matrix_a, matrix_b):\n",
    "    # Check if multiplication is possible\n",
    "    rows_a = len(matrix_a)\n",
    "    cols_a = len(matrix_a[0])\n",
    "    rows_b = len(matrix_b)\n",
    "    cols_b = len(matrix_b[0])\n",
    "\n",
    "    if cols_a != rows_b:\n",
    "        print(\"Error: Incompatible dimensions for multiplication.\")\n",
    "        return None\n",
    "\n",
    "    # Initialize the result matrix with zeros\n",
    "    result_matrix = [[0 for _ in range(cols_b)] for _ in range(rows_a)]\n",
    "\n",
    "    # Perform the multiplication using nested loops\n",
    "    for i in range(rows_a):\n",
    "        for j in range(cols_b):\n",
    "            for k in range(cols_a):\n",
    "                result_matrix[i][j] += matrix_a[i][k] * matrix_b[k][j]\n",
    "\n",
    "    return result_matrix"
   ]
  },
  {
   "cell_type": "code",
   "execution_count": 8,
   "id": "fb627db2-e213-4e23-8734-a773b8a3198d",
   "metadata": {},
   "outputs": [],
   "source": [
    "# --- Question 4: Print a Pattern ---\n",
    "def print_pattern():\n",
    "    print(\"Star Pattern:\")\n",
    "    \n",
    "    # Print the top half of the pattern (increasing stars)\n",
    "    for i in range(1, 6):\n",
    "        print(\"☆ \" * i)\n",
    "    \n",
    "    # Print the bottom half of the pattern (decreasing stars)\n",
    "    for i in range(4, 0, -1):\n",
    "        print(\"☆ \" * i)\n",
    "    \n",
    "    print(\"-\" * 20)"
   ]
  },
  {
   "cell_type": "code",
   "execution_count": 9,
   "id": "8fc6635c-8394-49e6-8a55-99d8f4adb4af",
   "metadata": {},
   "outputs": [
    {
     "name": "stdout",
     "output_type": "stream",
     "text": [
      "Star Pattern:\n",
      "☆ \n",
      "☆ ☆ \n",
      "☆ ☆ ☆ \n",
      "☆ ☆ ☆ ☆ \n",
      "☆ ☆ ☆ ☆ ☆ \n",
      "☆ ☆ ☆ ☆ \n",
      "☆ ☆ ☆ \n",
      "☆ ☆ \n",
      "☆ \n",
      "--------------------\n"
     ]
    }
   ],
   "source": [
    "print_pattern()"
   ]
  },
  {
   "cell_type": "code",
   "execution_count": 18,
   "id": "66b092b2-ba9b-42a7-8e77-6965e481af52",
   "metadata": {},
   "outputs": [],
   "source": [
    "# --- Question 10: Print Hollow Square ---\n",
    "def print_hollow_square(size):\n",
    "    print(f\"--- Question 10: Hollow Square (size {size}) ---\")\n",
    "    for i in range(size):\n",
    "        for j in range(size):\n",
    "            # Print stars only on the border\n",
    "            if i == 0 or i == size - 1 or j == 0 or j == size - 1:\n",
    "                print(\"☆\", end=\" \")\n",
    "            else:\n",
    "                print(\"   \", end=\"\")\n",
    "        print() # Move to the next line\n",
    "    print(\"-\" * 20)"
   ]
  },
  {
   "cell_type": "code",
   "execution_count": 19,
   "id": "c01c5c32-5631-4c31-b129-e0c1a8d9369a",
   "metadata": {},
   "outputs": [
    {
     "name": "stdout",
     "output_type": "stream",
     "text": [
      "--- Question 10: Hollow Square (size 5) ---\n",
      "☆ ☆ ☆ ☆ ☆ \n",
      "☆          ☆ \n",
      "☆          ☆ \n",
      "☆          ☆ \n",
      "☆ ☆ ☆ ☆ ☆ \n",
      "--------------------\n"
     ]
    }
   ],
   "source": [
    "print_hollow_square(5)"
   ]
  },
  {
   "cell_type": "code",
   "execution_count": 20,
   "id": "19c8e1c8-3e82-4247-9d10-2107ca08c7c0",
   "metadata": {},
   "outputs": [],
   "source": [
    "def generate_combinations():\n",
    "    adjectives = [\"red\", \"big\", \"tasty\"]\n",
    "    fruits = [\"apple\", \"banana\", \"cherry\"]\n",
    "\n",
    "    print(\"--- Question 5: Generating Combinations ---\")\n",
    "    for adj in adjectives:\n",
    "        for fruit in fruits:\n",
    "            print(f\"{adj} {fruit}\")\n",
    "    print(\"-\" * 20)"
   ]
  },
  {
   "cell_type": "code",
   "execution_count": 21,
   "id": "c28b3909-0488-46e9-a1bc-c5add05d5763",
   "metadata": {},
   "outputs": [
    {
     "name": "stdout",
     "output_type": "stream",
     "text": [
      "--- Question 5: Generating Combinations ---\n",
      "red apple\n",
      "red banana\n",
      "red cherry\n",
      "big apple\n",
      "big banana\n",
      "big cherry\n",
      "tasty apple\n",
      "tasty banana\n",
      "tasty cherry\n",
      "--------------------\n"
     ]
    }
   ],
   "source": [
    "generate_combinations()"
   ]
  },
  {
   "cell_type": "code",
   "execution_count": 25,
   "id": "aa3ecf04-0c7a-49f5-9664-f0781f8d4d97",
   "metadata": {},
   "outputs": [
    {
     "name": "stdout",
     "output_type": "stream",
     "text": [
      "--- Question 6: Diamond Pattern (5 rows) ---\n",
      "  ☆ \n",
      " ☆ ☆ ☆ \n",
      "☆ ☆ ☆ ☆ ☆ \n",
      " ☆ ☆ ☆ \n",
      "  ☆ \n",
      "--------------------\n"
     ]
    }
   ],
   "source": [
    "def print_pyramid_pattern(rows):\n",
    "\n",
    "    print(f\"--- Question 6: Diamond Pattern ({rows} rows) ---\")\n",
    "    \n",
    "    # Upper half of the diamond\n",
    "    for i in range(1, rows + 1, 2):\n",
    "        # Print leading spaces\n",
    "        print(\" \" * ((rows - i) // 2), end=\"\")\n",
    "        # Print stars\n",
    "        print(\"☆ \" * i)\n",
    "    \n",
    "    # Lower half of the diamond\n",
    "    for i in range(rows - 2, 0, -2):\n",
    "        # Print leading spaces\n",
    "        print(\" \" * ((rows - i) // 2), end=\"\")\n",
    "        # Print stars\n",
    "        print(\"☆ \" * i)\n",
    "\n",
    "    print(\"-\" * 20)\n",
    "\n",
    "print_pyramid_pattern(5)"
   ]
  },
  {
   "cell_type": "code",
   "execution_count": 26,
   "id": "1099bd97-215b-4632-b1b9-9c961df67fb5",
   "metadata": {},
   "outputs": [
    {
     "name": "stdout",
     "output_type": "stream",
     "text": [
      "--- Question 7: Fibonacci Series (first 5 terms) ---\n",
      "0 1 1 2 3 \n",
      "--------------------\n"
     ]
    }
   ],
   "source": [
    "def print_fibonacci_series(n):\n",
    "    print(f\"--- Question 7: Fibonacci Series (first {n} terms) ---\")\n",
    "    a, b = 0, 1\n",
    "    for _ in range(n):\n",
    "        print(a, end=\" \")\n",
    "        a, b = b, a + b\n",
    "    print(\"\\n\" + \"-\" * 20)\n",
    "\n",
    "print_fibonacci_series(5)"
   ]
  },
  {
   "cell_type": "code",
   "execution_count": 27,
   "id": "47309d50-d473-4240-87cd-b5e6c8281d35",
   "metadata": {},
   "outputs": [
    {
     "name": "stdout",
     "output_type": "stream",
     "text": [
      "--- Question 8: Prime Numbers between 50 and 100 ---\n",
      "53 59 61 67 71 73 79 83 89 97 \n",
      "Total prime numbers found: 10\n",
      "--------------------\n"
     ]
    }
   ],
   "source": [
    "# --- Question 8: Prime Numbers between 50 and 100 ---\n",
    "def find_prime_numbers(start, end):\n",
    "    print(f\"--- Question 8: Prime Numbers between {start} and {end} ---\")\n",
    "    prime_count = 0\n",
    "    for num in range(start, end + 1):\n",
    "        is_prime = True\n",
    "        # Prime numbers are greater than 1\n",
    "        if num > 1:\n",
    "            for i in range(2, int(num**0.5) + 1):\n",
    "                if (num % i) == 0:\n",
    "                    is_prime = False\n",
    "                    break\n",
    "            if is_prime:\n",
    "                print(num, end=\" \")\n",
    "                prime_count += 1\n",
    "    print(f\"\\nTotal prime numbers found: {prime_count}\")\n",
    "    print(\"-\" * 20)\n",
    "\n",
    "find_prime_numbers(50,100)"
   ]
  },
  {
   "cell_type": "code",
   "execution_count": null,
   "id": "780b31ce-96c7-4616-86a6-e96cd8a9f1d7",
   "metadata": {},
   "outputs": [],
   "source": []
  },
  {
   "cell_type": "code",
   "execution_count": null,
   "id": "cae8c050-b614-453b-b1c2-b6a87b8a8850",
   "metadata": {},
   "outputs": [],
   "source": []
  },
  {
   "cell_type": "code",
   "execution_count": 30,
   "id": "2efdd47e-18ea-4b9a-8127-f1621ae774d4",
   "metadata": {},
   "outputs": [
    {
     "name": "stdin",
     "output_type": "stream",
     "text": [
      " 10\n"
     ]
    },
    {
     "name": "stdout",
     "output_type": "stream",
     "text": [
      "7.98\n"
     ]
    },
    {
     "name": "stdin",
     "output_type": "stream",
     "text": [
      " 10\n"
     ]
    },
    {
     "name": "stdout",
     "output_type": "stream",
     "text": [
      "55.0\n"
     ]
    }
   ],
   "source": [
    "#wap in python to sum the series\n",
    "#1. 1/2 + 2/3 + ... + n/n+1\n",
    "n = int(input())\n",
    "sum_ = 0\n",
    "for i in range(1,n+1):\n",
    "    sum_+=i/(i+1)\n",
    "print(format(sum_,\".2f\"))\n",
    "\n",
    "#wap 2. 1/1 + 2^2/2 + 3^2/3...+ n^2/n\n",
    "#above is nothing but = n*(n+1)/2\n",
    "n = int(input())\n",
    "print(n*(n+1)/2)"
   ]
  },
  {
   "cell_type": "code",
   "execution_count": 31,
   "id": "5207f1f0-c730-4b2a-b8dc-a3b77c6f2d60",
   "metadata": {},
   "outputs": [
    {
     "name": "stdin",
     "output_type": "stream",
     "text": [
      " 3\n"
     ]
    },
    {
     "name": "stdout",
     "output_type": "stream",
     "text": [
      "(0, 0) (0, 1) (0, 2) \n",
      "(1, 0) (1, 1) (1, 2) \n",
      "(2, 0) (2, 1) (2, 2) \n"
     ]
    }
   ],
   "source": [
    "#wap 2. 3x3 grid\n",
    "n = int(input())\n",
    "for i in range(n):\n",
    "    for j in range(n):\n",
    "        print((i,j), end=\" \")\n",
    "    print()"
   ]
  },
  {
   "cell_type": "code",
   "execution_count": null,
   "id": "fb29d519-a9d2-4559-a6ef-98d229c49b5b",
   "metadata": {},
   "outputs": [],
   "source": [
    "def matrixMultiplication(A,B):\n",
    "    rowA,colA = len(A), len(A[0])\n",
    "    rowB,colB = len(B), len(B[0])\n",
    "    if colA!!=rowB: return \"Not Possible\"\n",
    "\n",
    "    result = []\n",
    "    for row in A:\n",
    "        arr = []\n",
    "        for col in range(colB):\n",
    "            for rowb in range(rowB):\n",
    "                \n",
    "                \n",
    "    "
   ]
  },
  {
   "cell_type": "code",
   "execution_count": null,
   "id": "2ca44b63-0d43-4379-bb9a-245f176f4c4c",
   "metadata": {},
   "outputs": [],
   "source": []
  },
  {
   "cell_type": "code",
   "execution_count": null,
   "id": "dfd2a97c-a86b-44fb-9d9b-c9c8b8414d57",
   "metadata": {},
   "outputs": [],
   "source": []
  },
  {
   "cell_type": "code",
   "execution_count": null,
   "id": "e00c6648-7e09-4f43-81e3-37d73de8baa4",
   "metadata": {},
   "outputs": [],
   "source": []
  },
  {
   "cell_type": "code",
   "execution_count": null,
   "id": "4dd95ddd-fef4-4fd5-9a14-64788fd3f04a",
   "metadata": {},
   "outputs": [],
   "source": []
  },
  {
   "cell_type": "code",
   "execution_count": null,
   "id": "4af65039-0bbe-47fc-a2dd-eb5f29288727",
   "metadata": {},
   "outputs": [],
   "source": []
  },
  {
   "cell_type": "code",
   "execution_count": null,
   "id": "49ea716d-964c-4700-9403-025603af538a",
   "metadata": {},
   "outputs": [],
   "source": []
  },
  {
   "cell_type": "code",
   "execution_count": null,
   "id": "b5fb9973-0d2d-420a-a496-8210431bbbe8",
   "metadata": {},
   "outputs": [],
   "source": []
  },
  {
   "cell_type": "code",
   "execution_count": null,
   "id": "f315e42d-a688-4f9c-9b59-d0d4038cb175",
   "metadata": {},
   "outputs": [],
   "source": []
  },
  {
   "cell_type": "code",
   "execution_count": null,
   "id": "674b86f8-d4ed-4d12-a4e1-6145e41d6b9e",
   "metadata": {},
   "outputs": [],
   "source": []
  },
  {
   "cell_type": "code",
   "execution_count": null,
   "id": "239b20ff-6cfc-40ff-9e85-9464a98970c8",
   "metadata": {},
   "outputs": [],
   "source": []
  },
  {
   "cell_type": "code",
   "execution_count": null,
   "id": "7b02a2b2-4692-42aa-886c-3089cbe9575d",
   "metadata": {},
   "outputs": [],
   "source": []
  },
  {
   "cell_type": "code",
   "execution_count": null,
   "id": "3cfea55a-69ea-4511-b808-423f409d2ae8",
   "metadata": {},
   "outputs": [],
   "source": []
  }
 ],
 "metadata": {
  "kernelspec": {
   "display_name": "Python 3 (ipykernel)",
   "language": "python",
   "name": "python3"
  },
  "language_info": {
   "codemirror_mode": {
    "name": "ipython",
    "version": 3
   },
   "file_extension": ".py",
   "mimetype": "text/x-python",
   "name": "python",
   "nbconvert_exporter": "python",
   "pygments_lexer": "ipython3",
   "version": "3.13.5"
  }
 },
 "nbformat": 4,
 "nbformat_minor": 5
}
