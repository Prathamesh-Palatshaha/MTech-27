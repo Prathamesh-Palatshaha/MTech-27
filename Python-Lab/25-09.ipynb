{
 "cells": [
  {
   "cell_type": "code",
   "execution_count": 1,
   "id": "9b6944da-34c9-43b1-a203-1b6023cabfbc",
   "metadata": {},
   "outputs": [
    {
     "name": "stdout",
     "output_type": "stream",
     "text": [
      "15\n"
     ]
    }
   ],
   "source": [
    "def fun(n):\n",
    "    if n == 0: return 0\n",
    "    return n + fun(n-1)\n",
    "print(fun(5))"
   ]
  },
  {
   "cell_type": "code",
   "execution_count": 9,
   "id": "b2cb8b99-1db5-4c0a-a28e-cdacd6465167",
   "metadata": {},
   "outputs": [
    {
     "name": "stdout",
     "output_type": "stream",
     "text": [
      "0 1 1 2 3 5 "
     ]
    }
   ],
   "source": [
    "#wap to print the fibo series using recursion\n",
    "def fibo(n):\n",
    "    if n == 0 or n == 1:\n",
    "        return n\n",
    "    return fibo(n-1) + fibo(n-2)\n",
    "for i in range(6):\n",
    "    print(fibo(i), end=\" \")"
   ]
  },
  {
   "cell_type": "markdown",
   "id": "100df923-2bb6-454b-a8d6-8b0567c2f8d7",
   "metadata": {},
   "source": [
    "### wap to suffle a deck of cards using recursion\n",
    "### wap to reverse string using rec\n",
    "### wap to calc exp fun using rec"
   ]
  },
  {
   "cell_type": "code",
   "execution_count": 10,
   "id": "280f921f-deb1-4445-96e6-1bfceb3327e8",
   "metadata": {},
   "outputs": [
    {
     "data": {
      "text/plain": [
       "'OLLEH'"
      ]
     },
     "execution_count": 10,
     "metadata": {},
     "output_type": "execute_result"
    }
   ],
   "source": [
    "#wap to reverse string using rec\n",
    "def reverse_string_recursive(s):\n",
    "    # Base case: If the string is empty or has only one character, it's already reversed.\n",
    "    if len(s) <= 1:\n",
    "        return s\n",
    "    else:\n",
    "        return reverse_string_recursive(s[1:]) + s[0]\n",
    "    \n",
    "reverse_string_recursive(\"HELLO\")"
   ]
  },
  {
   "cell_type": "code",
   "execution_count": 11,
   "id": "c31acf8e-5188-4008-9251-5595639976c8",
   "metadata": {},
   "outputs": [
    {
     "data": {
      "text/plain": [
       "2"
      ]
     },
     "execution_count": 11,
     "metadata": {},
     "output_type": "execute_result"
    }
   ],
   "source": [
    "#wap to calc GCD using rec fun\n",
    "def gcd_recursive(a, b):\n",
    "  if b == 0:\n",
    "    return a\n",
    "  else:\n",
    "    return gcd_recursive(b, a % b)\n",
    "gcd_recursive(6,10)"
   ]
  },
  {
   "cell_type": "code",
   "execution_count": null,
   "id": "551383a3-08b4-4a66-b48c-29cf67d5a3e0",
   "metadata": {},
   "outputs": [],
   "source": []
  }
 ],
 "metadata": {
  "kernelspec": {
   "display_name": "Python 3 (ipykernel)",
   "language": "python",
   "name": "python3"
  },
  "language_info": {
   "codemirror_mode": {
    "name": "ipython",
    "version": 3
   },
   "file_extension": ".py",
   "mimetype": "text/x-python",
   "name": "python",
   "nbconvert_exporter": "python",
   "pygments_lexer": "ipython3",
   "version": "3.13.5"
  }
 },
 "nbformat": 4,
 "nbformat_minor": 5
}
