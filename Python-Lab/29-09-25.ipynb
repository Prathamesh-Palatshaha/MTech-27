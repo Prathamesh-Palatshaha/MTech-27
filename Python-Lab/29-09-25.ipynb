{
 "cells": [
  {
   "cell_type": "code",
   "execution_count": 2,
   "id": "efa22b0e-a2b4-4953-a707-2a3860cafe96",
   "metadata": {},
   "outputs": [],
   "source": [
    "import pandas as pd\n",
    "import seaborn as sns\n",
    "import math\n"
   ]
  },
  {
   "cell_type": "code",
   "execution_count": 14,
   "id": "9d427743-7bd1-409a-80c3-88fe5ae251e3",
   "metadata": {},
   "outputs": [
    {
     "name": "stdout",
     "output_type": "stream",
     "text": [
      "Hello, Lucifer.\n"
     ]
    }
   ],
   "source": [
    "from myModule import main\n",
    "fun = main.sayHello(\"Lucifer\")\n",
    "# fun = main.printDetail({\"name\":\"ABC\", \"age\":18})\n",
    "print(fun)"
   ]
  },
  {
   "cell_type": "code",
   "execution_count": 15,
   "id": "b3628bab-0a28-49a1-8bb3-b701c4c3c180",
   "metadata": {},
   "outputs": [],
   "source": [
    "from myModule import printDet"
   ]
  },
  {
   "cell_type": "code",
   "execution_count": 19,
   "id": "9495ca7a-5f52-45e2-abfd-beae3e611c16",
   "metadata": {},
   "outputs": [
    {
     "name": "stdout",
     "output_type": "stream",
     "text": [
      "Name: Alice\n",
      "Age: 25\n"
     ]
    }
   ],
   "source": [
    "# dic = {\"name\":\"ABC\", \"age\":18}\n",
    "fun = printDet.printDetail(Name=\"Alice\", Age=25)"
   ]
  },
  {
   "cell_type": "code",
   "execution_count": null,
   "id": "08979192-2278-4a91-ad7b-f49ba680aa86",
   "metadata": {},
   "outputs": [],
   "source": []
  }
 ],
 "metadata": {
  "kernelspec": {
   "display_name": "Python 3 (ipykernel)",
   "language": "python",
   "name": "python3"
  },
  "language_info": {
   "codemirror_mode": {
    "name": "ipython",
    "version": 3
   },
   "file_extension": ".py",
   "mimetype": "text/x-python",
   "name": "python",
   "nbconvert_exporter": "python",
   "pygments_lexer": "ipython3",
   "version": "3.13.5"
  }
 },
 "nbformat": 4,
 "nbformat_minor": 5
}
